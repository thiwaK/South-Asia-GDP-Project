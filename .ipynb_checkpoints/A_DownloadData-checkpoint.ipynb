{
 "cells": [
  {
   "cell_type": "markdown",
   "id": "c2fc8b8f",
   "metadata": {},
   "source": [
    "# South Asia GDP Prediction\n",
    "\n",
    "This jupyter notebook is developed to predict Gross Domestic Product (GDP) of several countries in the South Asian region by utilizing the nighttime light satellite data. GDP is an important economic indicator that is closely related to the economic development of a country. Therefore, accurately predicting GDP can provide valuable insights into the economic growth of a region.\n",
    "\n",
    "Nighttime light data provides a unique perspective into human activities and infrastructure, which can be used to estimate electricity consumption, economic activity, and urbanization trends. In this project, I will explore the relationship between nighttime light data and GDP to predict GDP for several countries in South Asia."
   ]
  },
  {
   "cell_type": "code",
   "execution_count": 1,
   "id": "4d553450",
   "metadata": {},
   "outputs": [],
   "source": [
    "import ee\n",
    "import geemap\n",
    "import geemap as gee\n",
    "import json\n",
    "import requests\n",
    "import os\n",
    "import shapefile\n",
    "import geopandas as gpd\n",
    "\n",
    "import numpy as np\n",
    "\n",
    "# Initialize the Earth Engine API\n",
    "ee.Initialize()"
   ]
  },
  {
   "cell_type": "markdown",
   "id": "bb5328e8",
   "metadata": {},
   "source": [
    "The `SAsia_Merged.shp` is a vector file that was created by combining the countries of Sri Lanka, India, Pakistan, Nepal, Bhutan, and Bangladesh, which are the countries interested in for predicting GDP. To filter data from Google Earth Engine (GEE), it needs to define an area of interest (AOI) that covers the regions of these countries. Instead of using the geometry of `SAsia_Merged.shp` directly, which contains a large number of nodes making it difficult for GEE to filter data efficiently, I can create a square shape that covers the AOI.\n",
    "\n",
    "To create a square shape that covers the AOI, I first calculated the maximum and minimum coordinates of x (latitudes) and y (longitudes) for the `SAsia_Merged.shp`. I then used these values to create a bounding box that defines square shape. The bounding box is a rectangular box with sides aligned with the x and y axes, created by specifying the minimum and maximum values of both the x and y dimensions. The use of a bounding box allows me to efficiently filter the data from GEE, allowing for faster processing times"
   ]
  },
  {
   "cell_type": "code",
   "execution_count": 2,
   "id": "f467d7a8-0e97-4b85-8893-50e22c2f004f",
   "metadata": {
    "tags": []
   },
   "outputs": [],
   "source": [
    "vector_file_path = r\"sAsia/SAsia_Merged.shp\"\n",
    "vector_data = gpd.read_file(vector_file_path)\n",
    "vector_bound_coordinates = vector_data.bounds\n",
    "minX, minY, maxX, maxY = vector_bound_coordinates.values[0][0], vector_bound_coordinates.values[0][1], vector_bound_coordinates.values[0][2], vector_bound_coordinates.values[0][3]\n",
    "\n",
    "for item in vector_bound_coordinates.values:\n",
    "    if minX > item[0]: minX = item[0]\n",
    "    if minY > item[1]: minY = item[1]\n",
    "    if maxX < item[2]: maxX = item[2]\n",
    "    if maxY < item[3]: maxY = item[3]\n",
    "\n",
    "area_of_interest = ee.Geometry.Rectangle([[minX-1, minY-1],[maxX+1, maxY+1]])\n"
   ]
  },
  {
   "cell_type": "markdown",
   "id": "63901166",
   "metadata": {},
   "source": [
    "To visually display and validate if the created rectangular area covers my AOI, I can create an interactive map using geemap. The map will show the blue area covered by the rectangle and the red polygons that represent the country areas obtained from the GEE feature collection USDOS/LSIB_SIMPLE/2017.\n",
    "\n",
    "The purpose of this map is to provide a visual representation of the selected rectangular area and to ensure that it encompasses the countries of Sri Lanka, India, Pakistan, Nepal, Bhutan, and Bangladesh. The red polygons represent the actual country boundaries, providing a frame of reference to ensure that our rectangular selection aligns with the desired area of interest.\n",
    "\n",
    "By using this map, I can visually confirm that the rectangular area I have selected includes the targeted countries and exclude any unwanted areas. This process helps ensure that the data we collect from GEE is accurate and relevant for my analysis."
   ]
  },
  {
   "cell_type": "code",
   "execution_count": 3,
   "id": "2658eb09-41ec-43c5-9a70-c6b4059910e4",
   "metadata": {
    "tags": []
   },
   "outputs": [
    {
     "data": {
      "application/vnd.jupyter.widget-view+json": {
       "model_id": "2a82223251854e10b110d6214deeb134",
       "version_major": 2,
       "version_minor": 0
      },
      "text/plain": [
       "Map(center=[20, 0], controls=(WidgetControl(options=['position', 'transparent_bg'], widget=HBox(children=(Togg…"
      ]
     },
     "metadata": {},
     "output_type": "display_data"
    }
   ],
   "source": [
    "Map = geemap.Map(zoom=1, lite_mode=False)\n",
    "countries_interested = [\"Pakistan\", \"Nepal\", \"Sri Lanka\", \"India\", \"Bhutan\", \"Bangladesh\"]\n",
    "area_of_interest = ee.Geometry.Rectangle([[60, 37],[98, 5]])\n",
    "\n",
    "Map.addLayer(area_of_interest, {\"color\":\"blue\"}, \"Rect 1\")\n",
    "Map.center_object(area_of_interest)\n",
    "\n",
    "for country in countries_interested:\n",
    "\n",
    "    ca_geom = ee.FeatureCollection(\"USDOS/LSIB_SIMPLE/2017\").filter(ee.Filter.eq('country_na', country)).geometry()\n",
    "    Map.addLayer(ca_geom, {\"color\":\"red\"}, country)\n",
    "\n",
    "Map"
   ]
  },
  {
   "cell_type": "markdown",
   "id": "2728000e",
   "metadata": {},
   "source": [
    "GEE provides access to two night light emission image collections, which were collected by sensors mounted on two different satellites. The first collection is the `VIIRS` (Visible Infrared Imaging Radiometer Suite) satellite night light emission image collection, with data available from January 1st, 1992 to January 1st, 2014. The second collection is the `CCNL` (Climate Change Initiative Combined Nighttime Lights) satellite night light emission image collection, with data available from January 1st, 2014 to June 1st, 2022. Each collection has a different range of minimum and maximum values. This means that the night light data from the two collections cannot be directly compared without first normalizing them into a consistent range."
   ]
  },
  {
   "cell_type": "code",
   "execution_count": 4,
   "id": "188d0bc2",
   "metadata": {},
   "outputs": [],
   "source": [
    "VIIRS = ee.ImageCollection('NOAA/VIIRS/DNB/MONTHLY_V1/VCMCFG') \n",
    "CCNL = ee.ImageCollection('BNU/FGS/CCNL/v1')"
   ]
  },
  {
   "cell_type": "markdown",
   "id": "5a5ec251",
   "metadata": {},
   "source": [
    "To refine our dataset further, I have filtered the GEE night light emission image collections for each year and extracted the cloud-free coverage from VIIRS and band 1 from CCNL."
   ]
  },
  {
   "cell_type": "code",
   "execution_count": 5,
   "id": "a26369ab-eb67-4074-8a35-1ec7c57363e2",
   "metadata": {
    "tags": []
   },
   "outputs": [
    {
     "name": "stdout",
     "output_type": "stream",
     "text": [
      "Filtering...\n",
      "CCNL 1992 1993 1994 1995 1996 1997 1998 1999 2000 2001 2002 2003 2004 2005 2006 2007 2008 2009 2010 2011 2012 2013 "
     ]
    }
   ],
   "source": [
    "print(\"Filtering...\")\n",
    "\n",
    "dataset_ccnl_filtered = {}\n",
    "dataset_viirs_filtered = {}\n",
    "get_ccnl = True\n",
    "get_viirs = False\n",
    "\n",
    "if get_ccnl:\n",
    "    print(\"CCNL\", end=' ')\n",
    "    for year in range(1992,2014):\n",
    "        print(year ,end=' ')\n",
    "        ntldata = CCNL.filterBounds(area_of_interest).filter(ee.Filter.date(str(year) + '-01-01', str(year) + '-12-31'))\n",
    "        ntldata = ntldata.select('b1').mean().clip(area_of_interest)\n",
    "        dataset_ccnl_filtered[year] = ntldata\n",
    "\n",
    "if get_viirs:\n",
    "    print(\"VIIRS\", end=' ')\n",
    "    for year in range(2014, 2023):\n",
    "        print(year ,end=' ')\n",
    "        ntldata = VIIRS.filterBounds(area_of_interest).filter(ee.Filter.date(str(year) + '-01-01', str(year) + '-12-31'))\n",
    "        ntldata = ntldata.select('cf_cvg').mean().clip(area_of_interest)\n",
    "        dataset_viirs_filtered[year] = ntldata"
   ]
  },
  {
   "cell_type": "code",
   "execution_count": 6,
   "id": "6c47ed4d-4852-4584-8855-a9a8b993ba6b",
   "metadata": {
    "tags": []
   },
   "outputs": [
    {
     "data": {
      "application/vnd.jupyter.widget-view+json": {
       "model_id": "779583b2c25f479e8685c5c4dc11a126",
       "version_major": 2,
       "version_minor": 0
      },
      "text/plain": [
       "Map(center=[20, 0], controls=(WidgetControl(options=['position', 'transparent_bg'], widget=HBox(children=(Togg…"
      ]
     },
     "metadata": {},
     "output_type": "display_data"
    }
   ],
   "source": [
    "# For testing\n",
    "url = 'https://tiles.stadiamaps.com/tiles/alidade_smooth_dark/{z}/{x}/{y}{r}.png'\n",
    "\n",
    "Map = geemap.Map(zoom=8, lite_mode=False)\n",
    "Map.add_tile_layer(url, name='AlidadeSmoothDark', attribution='&copy; <a href=\"https://stadiamaps.com/\">Stadia Maps</a>, &copy; <a href=\"https://openmaptiles.org/\">OpenMapTiles</a> &copy; <a href=\"http://openstreetmap.org\">OpenStreetMap</a> contributors')\n",
    "attributes = {'palette': ['000004', '160b39', '400a67', '69166e', '902568', 'd94d3d', 'f1711f', 'fb9d07', 'f8cd37', 'fcffa4']}\n",
    "\n",
    "for year, data in dataset_ccnl_filtered.items():\n",
    "    Map.addLayer(data, attributes, str(year) + \" CCNL\")\n",
    "    break\n",
    "\n",
    "for year, data in dataset_viirs_filtered.items():\n",
    "    Map.addLayer(data, attributes, str(year) + \" VIIRS\")\n",
    "    break\n",
    "\n",
    "Map.center_object(area_of_interest)\n",
    "Map"
   ]
  },
  {
   "cell_type": "markdown",
   "id": "f7a3ee18",
   "metadata": {},
   "source": [
    "One way to export filtered data sets to Google Drive is by using the following code to export them as GeoTiff files:\n",
    "```python\n",
    "\n",
    "for year, data in dataset.items():\n",
    "    geemap.ee_export_image_to_drive(data, fileNamePrefix=\"nle_\" + str(year), region=area_of_interest, folder='export_nle')\n",
    "```\n",
    "\n",
    "However, exporting large GeoTiff files can be time-consuming. An alternative approach to this is to export the data sets as numpy arrays, which is a faster process."
   ]
  },
  {
   "cell_type": "code",
   "execution_count": 7,
   "id": "56f8e33c-47c4-4784-ad6b-bb4b423886db",
   "metadata": {},
   "outputs": [
    {
     "name": "stdout",
     "output_type": "stream",
     "text": [
      "1992 https://earthengine.googleapis.com/v1alpha/projects/earthengine-legacy/thumbnails/f025111a29b11a5cb9951923f301d81b-d68de3bf4e754197c6f2200e3f77ae3e:getPixels\n",
      "1993 https://earthengine.googleapis.com/v1alpha/projects/earthengine-legacy/thumbnails/8c1fa07b4c522ed1cf147a8284a9c7a7-ab9da946d6116cb0347660041ef34fa0:getPixels\n",
      "1994 https://earthengine.googleapis.com/v1alpha/projects/earthengine-legacy/thumbnails/badbd3edd713b36c837137e867ec9660-57e83e7e711ec9d9ff4b69935fc69891:getPixels\n",
      "1995 https://earthengine.googleapis.com/v1alpha/projects/earthengine-legacy/thumbnails/a0374d14f6fb0924679a05e96eacb368-f13e3356ac138da4a5e9787f9d0b4e65:getPixels\n",
      "1996 https://earthengine.googleapis.com/v1alpha/projects/earthengine-legacy/thumbnails/07fb0101e441dba5c2fc44676059b95d-c456680686a0630c8e178b181dc7912c:getPixels\n",
      "1997 https://earthengine.googleapis.com/v1alpha/projects/earthengine-legacy/thumbnails/e19847fccd293baa0f94961ad822b77b-8a214a2c3ad24541cba13979fef558d9:getPixels\n",
      "1998 https://earthengine.googleapis.com/v1alpha/projects/earthengine-legacy/thumbnails/2ae50c6a92cc552650c030f493956f9e-d7fa9aed3b04499198eca2daff40e41f:getPixels\n",
      "1999 https://earthengine.googleapis.com/v1alpha/projects/earthengine-legacy/thumbnails/decf7a354293495d5a84b299e0deaadf-521cb7c5dd70f0f16b80c28c010944f3:getPixels\n",
      "2000 https://earthengine.googleapis.com/v1alpha/projects/earthengine-legacy/thumbnails/169175bd924e2101c5f0153e1cd3f810-141a9455ad2c7b6314e7bf4817d82fc1:getPixels\n",
      "2001 https://earthengine.googleapis.com/v1alpha/projects/earthengine-legacy/thumbnails/333db51cef0a89d54e355f7f0ddfef0a-ff698cc7a1e548b9e3e59d60ee232475:getPixels\n",
      "2002 https://earthengine.googleapis.com/v1alpha/projects/earthengine-legacy/thumbnails/9088e632ff98ae554f6be77ebd1ea270-a4334705da58ca9955e99610755a7444:getPixels\n",
      "2003 https://earthengine.googleapis.com/v1alpha/projects/earthengine-legacy/thumbnails/0446771db7ddce5d465026e864454f1e-82187099939171ac0ec8c906035d9a81:getPixels\n",
      "2004 https://earthengine.googleapis.com/v1alpha/projects/earthengine-legacy/thumbnails/241b47c2ca4dccd49128dedea453cc0b-bb9b750e3d872f5d629ea396cc81008a:getPixels\n",
      "2005 https://earthengine.googleapis.com/v1alpha/projects/earthengine-legacy/thumbnails/9f3345c3434dc904efd7acb54ab8c5cb-05db37cea927ac1e63075939f92e08c0:getPixels\n",
      "2006 https://earthengine.googleapis.com/v1alpha/projects/earthengine-legacy/thumbnails/607980ba63170da7bac6ef189eeef821-a79ad4bddb4aa728d46a9824dc0b3eb5:getPixels\n",
      "2007 https://earthengine.googleapis.com/v1alpha/projects/earthengine-legacy/thumbnails/234e9bc72a6719996d38dc3ff3d91a40-6a25409aa988af37025b6469c50089cf:getPixels\n",
      "2008 https://earthengine.googleapis.com/v1alpha/projects/earthengine-legacy/thumbnails/d27f45becb51a4224dd0054354f8c607-f9e3aaa78102ff48d6abd408ff00f6d1:getPixels\n",
      "2009 https://earthengine.googleapis.com/v1alpha/projects/earthengine-legacy/thumbnails/d6f961c4a862a86e2fff2fa8d218568b-ff58e0fcdc090bddf0fa359891be2850:getPixels\n",
      "2010 https://earthengine.googleapis.com/v1alpha/projects/earthengine-legacy/thumbnails/6088dbf516ddb4b8ef473e916ae76f9d-f9092853df78675c920f82073fa174a3:getPixels\n",
      "2011 https://earthengine.googleapis.com/v1alpha/projects/earthengine-legacy/thumbnails/027adbc949cca2652b932085a831dc8b-38a5706d6f4dc93e4f87a01c8fbdcc7a:getPixels\n",
      "2012 https://earthengine.googleapis.com/v1alpha/projects/earthengine-legacy/thumbnails/f44a1cd46452025d1964a6b00378109b-dd2b0796b3eb0b5f26fe95dfe8813d30:getPixels\n",
      "2013 https://earthengine.googleapis.com/v1alpha/projects/earthengine-legacy/thumbnails/2ba48fbad3f5960e644ad531b3035862-17cf110afbcf9ba4b979d5a9662a5507:getPixels\n",
      "1992 https://earthengine.googleapis.com/v1alpha/projects/earthengine-legacy/thumbnails/f025111a29b11a5cb9951923f301d81b-b805461aa67eff79bdf4b8a9c67894c8:getPixels\n",
      "1993 https://earthengine.googleapis.com/v1alpha/projects/earthengine-legacy/thumbnails/8c1fa07b4c522ed1cf147a8284a9c7a7-05a44e7a3e0f85a07fd9a861dde87eef:getPixels\n",
      "1994 https://earthengine.googleapis.com/v1alpha/projects/earthengine-legacy/thumbnails/badbd3edd713b36c837137e867ec9660-e6e04ee60fe8956bab914f9a96963691:getPixels\n",
      "1995 https://earthengine.googleapis.com/v1alpha/projects/earthengine-legacy/thumbnails/a0374d14f6fb0924679a05e96eacb368-3f23fead884ca5227480c769b4ae6ecb:getPixels\n",
      "1996 https://earthengine.googleapis.com/v1alpha/projects/earthengine-legacy/thumbnails/07fb0101e441dba5c2fc44676059b95d-0ebee43a79bce9db57e24de1d6f7ecce:getPixels\n",
      "1997 https://earthengine.googleapis.com/v1alpha/projects/earthengine-legacy/thumbnails/e19847fccd293baa0f94961ad822b77b-c987046114507c90fe4b93d29d30e974:getPixels\n",
      "1998 https://earthengine.googleapis.com/v1alpha/projects/earthengine-legacy/thumbnails/2ae50c6a92cc552650c030f493956f9e-5568cadb6f4a8403f7eac1f190d8fc13:getPixels\n",
      "1999 https://earthengine.googleapis.com/v1alpha/projects/earthengine-legacy/thumbnails/decf7a354293495d5a84b299e0deaadf-5c33bcfbba8502b61b05bf397d88c377:getPixels\n",
      "2000 https://earthengine.googleapis.com/v1alpha/projects/earthengine-legacy/thumbnails/169175bd924e2101c5f0153e1cd3f810-14968684d9d637e55add6b6c9b7c45ec:getPixels\n",
      "2001 https://earthengine.googleapis.com/v1alpha/projects/earthengine-legacy/thumbnails/333db51cef0a89d54e355f7f0ddfef0a-142fc3f3281c9805c6b78fcd7c3ba6a1:getPixels\n",
      "2002 https://earthengine.googleapis.com/v1alpha/projects/earthengine-legacy/thumbnails/9088e632ff98ae554f6be77ebd1ea270-499a7d47df578757c9f6d31d64c33286:getPixels\n",
      "2003 https://earthengine.googleapis.com/v1alpha/projects/earthengine-legacy/thumbnails/0446771db7ddce5d465026e864454f1e-6f6421cf6de25451fe3a9f5e5efb9266:getPixels\n",
      "2004 https://earthengine.googleapis.com/v1alpha/projects/earthengine-legacy/thumbnails/241b47c2ca4dccd49128dedea453cc0b-901e506aa9c021a33dc10d8799b46957:getPixels\n",
      "2005 https://earthengine.googleapis.com/v1alpha/projects/earthengine-legacy/thumbnails/9f3345c3434dc904efd7acb54ab8c5cb-922acbff8a35bc0052f59fbf399fcbd0:getPixels\n",
      "2006 https://earthengine.googleapis.com/v1alpha/projects/earthengine-legacy/thumbnails/607980ba63170da7bac6ef189eeef821-47673e5adb58b476990d303ea7471182:getPixels\n",
      "2007 https://earthengine.googleapis.com/v1alpha/projects/earthengine-legacy/thumbnails/234e9bc72a6719996d38dc3ff3d91a40-3d917590b7c2e4e75c79f104ba6098ad:getPixels\n",
      "2008 https://earthengine.googleapis.com/v1alpha/projects/earthengine-legacy/thumbnails/d27f45becb51a4224dd0054354f8c607-aaad61ba2ebdcae48fd4179c7f37d55c:getPixels\n",
      "2009 https://earthengine.googleapis.com/v1alpha/projects/earthengine-legacy/thumbnails/d6f961c4a862a86e2fff2fa8d218568b-c82bb8e0d904a106ab8c4af8ae9e3d86:getPixels\n",
      "2010 https://earthengine.googleapis.com/v1alpha/projects/earthengine-legacy/thumbnails/6088dbf516ddb4b8ef473e916ae76f9d-cc4392c03dacf6aeba7444976bf10036:getPixels\n",
      "2011 https://earthengine.googleapis.com/v1alpha/projects/earthengine-legacy/thumbnails/027adbc949cca2652b932085a831dc8b-069424bb387dfe6df5fb1464027d81ee:getPixels\n",
      "2012 https://earthengine.googleapis.com/v1alpha/projects/earthengine-legacy/thumbnails/f44a1cd46452025d1964a6b00378109b-d8d171795468a851d42d675ceb2f94ad:getPixels\n",
      "2013 https://earthengine.googleapis.com/v1alpha/projects/earthengine-legacy/thumbnails/2ba48fbad3f5960e644ad531b3035862-b0af94cd4867940c1f0efbc90ab156bb:getPixels\n",
      "1992 https://earthengine.googleapis.com/v1alpha/projects/earthengine-legacy/thumbnails/f025111a29b11a5cb9951923f301d81b-bfedcf0f4b8f19c1296d4b935da8a9c7:getPixels\n",
      "1993 https://earthengine.googleapis.com/v1alpha/projects/earthengine-legacy/thumbnails/8c1fa07b4c522ed1cf147a8284a9c7a7-8993b47f8f918fc98e8065db02132b01:getPixels\n",
      "1994 https://earthengine.googleapis.com/v1alpha/projects/earthengine-legacy/thumbnails/badbd3edd713b36c837137e867ec9660-da2a895be9ecffd3ff8018c06c12da9b:getPixels\n",
      "1995 https://earthengine.googleapis.com/v1alpha/projects/earthengine-legacy/thumbnails/a0374d14f6fb0924679a05e96eacb368-ff81c2d8c04d675b2ccd7517fe3c1171:getPixels\n",
      "1996 https://earthengine.googleapis.com/v1alpha/projects/earthengine-legacy/thumbnails/07fb0101e441dba5c2fc44676059b95d-bc40ebd36c51a3de2a57b7ac9fe83bdd:getPixels\n",
      "1997 https://earthengine.googleapis.com/v1alpha/projects/earthengine-legacy/thumbnails/e19847fccd293baa0f94961ad822b77b-1edf7cabca5d13d4e96ffd783118cf9e:getPixels\n",
      "1998 https://earthengine.googleapis.com/v1alpha/projects/earthengine-legacy/thumbnails/2ae50c6a92cc552650c030f493956f9e-2ebd468c07dbdc78e4948fa5944a7e05:getPixels\n"
     ]
    },
    {
     "name": "stdout",
     "output_type": "stream",
     "text": [
      "1999 https://earthengine.googleapis.com/v1alpha/projects/earthengine-legacy/thumbnails/decf7a354293495d5a84b299e0deaadf-fd5aca3a0845f688db3ec47faa037d1f:getPixels\n",
      "2000 https://earthengine.googleapis.com/v1alpha/projects/earthengine-legacy/thumbnails/169175bd924e2101c5f0153e1cd3f810-4158f9fbc5a9bd2564fbb1faae613b76:getPixels\n",
      "2001 https://earthengine.googleapis.com/v1alpha/projects/earthengine-legacy/thumbnails/333db51cef0a89d54e355f7f0ddfef0a-12f4a622381b9604fa3210e034ea9492:getPixels\n",
      "2002 https://earthengine.googleapis.com/v1alpha/projects/earthengine-legacy/thumbnails/9088e632ff98ae554f6be77ebd1ea270-7cb9c33fb1f35a08ee502c8f72082b4f:getPixels\n",
      "2003 https://earthengine.googleapis.com/v1alpha/projects/earthengine-legacy/thumbnails/0446771db7ddce5d465026e864454f1e-7a64234442e87690d44afd5ad2466d64:getPixels\n",
      "2004 https://earthengine.googleapis.com/v1alpha/projects/earthengine-legacy/thumbnails/241b47c2ca4dccd49128dedea453cc0b-03862d9ee006b91f3e6e6fc88e7acbba:getPixels\n",
      "2005 https://earthengine.googleapis.com/v1alpha/projects/earthengine-legacy/thumbnails/9f3345c3434dc904efd7acb54ab8c5cb-bb9c2e04a01695f44c644fedb9473c6f:getPixels\n",
      "2006 https://earthengine.googleapis.com/v1alpha/projects/earthengine-legacy/thumbnails/607980ba63170da7bac6ef189eeef821-073bf4b8577b3197d58961c2dc4831c6:getPixels\n",
      "2007 https://earthengine.googleapis.com/v1alpha/projects/earthengine-legacy/thumbnails/234e9bc72a6719996d38dc3ff3d91a40-52452f969f07cbc896d1c1bd8e49f394:getPixels\n",
      "2008 https://earthengine.googleapis.com/v1alpha/projects/earthengine-legacy/thumbnails/d27f45becb51a4224dd0054354f8c607-a0c5757950dc8dc6408a638cb39fcbc8:getPixels\n",
      "2009 https://earthengine.googleapis.com/v1alpha/projects/earthengine-legacy/thumbnails/d6f961c4a862a86e2fff2fa8d218568b-dc0ba2d83d8bf386c434b1c463c4a8f0:getPixels\n",
      "2010 https://earthengine.googleapis.com/v1alpha/projects/earthengine-legacy/thumbnails/6088dbf516ddb4b8ef473e916ae76f9d-442446d5d0d317f6b665e6635f7bc595:getPixels\n",
      "2011 https://earthengine.googleapis.com/v1alpha/projects/earthengine-legacy/thumbnails/027adbc949cca2652b932085a831dc8b-e96209f67d77ffe4f0700ba16cc72f60:getPixels\n",
      "2012 https://earthengine.googleapis.com/v1alpha/projects/earthengine-legacy/thumbnails/f44a1cd46452025d1964a6b00378109b-90cb4e22aef21fb0c1399ace0c9f9daf:getPixels\n",
      "2013 https://earthengine.googleapis.com/v1alpha/projects/earthengine-legacy/thumbnails/2ba48fbad3f5960e644ad531b3035862-59693a2d6a93978985851a0200c872cd:getPixels\n",
      "1992 https://earthengine.googleapis.com/v1alpha/projects/earthengine-legacy/thumbnails/f025111a29b11a5cb9951923f301d81b-cc152526d4e4c3419c182ea7b609e095:getPixels\n",
      "1993 https://earthengine.googleapis.com/v1alpha/projects/earthengine-legacy/thumbnails/8c1fa07b4c522ed1cf147a8284a9c7a7-41e890095a9f89777126c77353e5c608:getPixels\n",
      "1994 https://earthengine.googleapis.com/v1alpha/projects/earthengine-legacy/thumbnails/badbd3edd713b36c837137e867ec9660-369eab99ced47379959ffe88c217be42:getPixels\n",
      "1995 https://earthengine.googleapis.com/v1alpha/projects/earthengine-legacy/thumbnails/a0374d14f6fb0924679a05e96eacb368-9e1a885a4c8bf8068d18b37a6526aef3:getPixels\n",
      "1996 https://earthengine.googleapis.com/v1alpha/projects/earthengine-legacy/thumbnails/07fb0101e441dba5c2fc44676059b95d-7b14367f8fef4135a2de1ff482916d0d:getPixels\n",
      "1997 https://earthengine.googleapis.com/v1alpha/projects/earthengine-legacy/thumbnails/e19847fccd293baa0f94961ad822b77b-6527be73bfa80ad4c947a6857a3c10aa:getPixels\n",
      "1998 https://earthengine.googleapis.com/v1alpha/projects/earthengine-legacy/thumbnails/2ae50c6a92cc552650c030f493956f9e-c0f8645efdb5ca7d048c5bb499c59660:getPixels\n",
      "1999 https://earthengine.googleapis.com/v1alpha/projects/earthengine-legacy/thumbnails/decf7a354293495d5a84b299e0deaadf-9199604d1348ea840b654f2b66db73ef:getPixels\n",
      "2000 https://earthengine.googleapis.com/v1alpha/projects/earthengine-legacy/thumbnails/169175bd924e2101c5f0153e1cd3f810-f51bc8274aa89743c262c64df4303d14:getPixels\n",
      "2001 https://earthengine.googleapis.com/v1alpha/projects/earthengine-legacy/thumbnails/333db51cef0a89d54e355f7f0ddfef0a-ceaf127df9574f39ed5188f121153459:getPixels\n",
      "2002 https://earthengine.googleapis.com/v1alpha/projects/earthengine-legacy/thumbnails/9088e632ff98ae554f6be77ebd1ea270-4dde0a61e0204e2877ea7a9ccec9a74a:getPixels\n",
      "2003 https://earthengine.googleapis.com/v1alpha/projects/earthengine-legacy/thumbnails/0446771db7ddce5d465026e864454f1e-fccc6a4461b0bfaa2aa0ed42d86ce881:getPixels\n",
      "2004 https://earthengine.googleapis.com/v1alpha/projects/earthengine-legacy/thumbnails/241b47c2ca4dccd49128dedea453cc0b-0650388db967cdd28c8d98dd4876fcde:getPixels\n",
      "2005 https://earthengine.googleapis.com/v1alpha/projects/earthengine-legacy/thumbnails/9f3345c3434dc904efd7acb54ab8c5cb-f9fafa367e4db728d208fa0fec45122c:getPixels\n",
      "2006 https://earthengine.googleapis.com/v1alpha/projects/earthengine-legacy/thumbnails/607980ba63170da7bac6ef189eeef821-3c26b7574430cbac61421e36d6892168:getPixels\n",
      "2007 https://earthengine.googleapis.com/v1alpha/projects/earthengine-legacy/thumbnails/234e9bc72a6719996d38dc3ff3d91a40-c2312a0b66e3149c8665bdc7bf089d74:getPixels\n",
      "2008 https://earthengine.googleapis.com/v1alpha/projects/earthengine-legacy/thumbnails/d27f45becb51a4224dd0054354f8c607-d490e95292ab384e113ea7349f7a73c2:getPixels\n",
      "2009 https://earthengine.googleapis.com/v1alpha/projects/earthengine-legacy/thumbnails/d6f961c4a862a86e2fff2fa8d218568b-9967c3f7d9a027b225c6387132457fbf:getPixels\n",
      "2010 https://earthengine.googleapis.com/v1alpha/projects/earthengine-legacy/thumbnails/6088dbf516ddb4b8ef473e916ae76f9d-837d3c0b429d94e9036575077f730bb6:getPixels\n",
      "2011 https://earthengine.googleapis.com/v1alpha/projects/earthengine-legacy/thumbnails/027adbc949cca2652b932085a831dc8b-8f16cf47a0b600c6f72f9d623581e71c:getPixels\n",
      "2012 https://earthengine.googleapis.com/v1alpha/projects/earthengine-legacy/thumbnails/f44a1cd46452025d1964a6b00378109b-f7a8a9ebf4b7e238e722ed9a9d503d38:getPixels\n",
      "2013 https://earthengine.googleapis.com/v1alpha/projects/earthengine-legacy/thumbnails/2ba48fbad3f5960e644ad531b3035862-5017e0fcc7000d54f4685fad89cc47c3:getPixels\n",
      "1992 https://earthengine.googleapis.com/v1alpha/projects/earthengine-legacy/thumbnails/f025111a29b11a5cb9951923f301d81b-433debb1f74d7d2a2e779017c77f7a3a:getPixels\n",
      "1993 https://earthengine.googleapis.com/v1alpha/projects/earthengine-legacy/thumbnails/8c1fa07b4c522ed1cf147a8284a9c7a7-91d7df74a89bf9492366920e4453e92b:getPixels\n",
      "1994 https://earthengine.googleapis.com/v1alpha/projects/earthengine-legacy/thumbnails/badbd3edd713b36c837137e867ec9660-2cdba2fc829a280d735507d77c27d008:getPixels\n",
      "1995 https://earthengine.googleapis.com/v1alpha/projects/earthengine-legacy/thumbnails/a0374d14f6fb0924679a05e96eacb368-3059965e4a44c1f736eae1af3e0ed95a:getPixels\n",
      "1996 https://earthengine.googleapis.com/v1alpha/projects/earthengine-legacy/thumbnails/07fb0101e441dba5c2fc44676059b95d-91243067f8adbe401cc5d452be1dc2e5:getPixels\n",
      "1997 https://earthengine.googleapis.com/v1alpha/projects/earthengine-legacy/thumbnails/e19847fccd293baa0f94961ad822b77b-535ed681a8c38b7c5fd76bf05bfb8047:getPixels\n",
      "1998 https://earthengine.googleapis.com/v1alpha/projects/earthengine-legacy/thumbnails/2ae50c6a92cc552650c030f493956f9e-f5afa56a8c97667a9a87880862e15386:getPixels\n",
      "1999 https://earthengine.googleapis.com/v1alpha/projects/earthengine-legacy/thumbnails/decf7a354293495d5a84b299e0deaadf-7f218c135ad7b76bcd372ae85df435b1:getPixels\n",
      "2000 https://earthengine.googleapis.com/v1alpha/projects/earthengine-legacy/thumbnails/169175bd924e2101c5f0153e1cd3f810-2e2900b90acc1097a6c0367bbe5be57a:getPixels\n",
      "2001 https://earthengine.googleapis.com/v1alpha/projects/earthengine-legacy/thumbnails/333db51cef0a89d54e355f7f0ddfef0a-291285d2d2986bc9115d38fc50c13d97:getPixels\n",
      "2002 https://earthengine.googleapis.com/v1alpha/projects/earthengine-legacy/thumbnails/9088e632ff98ae554f6be77ebd1ea270-21b8b8770f859016105e40390e7aa39f:getPixels\n",
      "2003 https://earthengine.googleapis.com/v1alpha/projects/earthengine-legacy/thumbnails/0446771db7ddce5d465026e864454f1e-fd02979126d315a89c16c076b2b062df:getPixels\n",
      "2004 https://earthengine.googleapis.com/v1alpha/projects/earthengine-legacy/thumbnails/241b47c2ca4dccd49128dedea453cc0b-5d78ea759f75d4dfa1f0842cb7035a1a:getPixels\n",
      "2005 https://earthengine.googleapis.com/v1alpha/projects/earthengine-legacy/thumbnails/9f3345c3434dc904efd7acb54ab8c5cb-fd3df9791c56d45ba4b7325b236c83e8:getPixels\n"
     ]
    },
    {
     "name": "stdout",
     "output_type": "stream",
     "text": [
      "2006 https://earthengine.googleapis.com/v1alpha/projects/earthengine-legacy/thumbnails/607980ba63170da7bac6ef189eeef821-62f1b92cff4bc568c8e8c5d482f978fe:getPixels\n",
      "2007 https://earthengine.googleapis.com/v1alpha/projects/earthengine-legacy/thumbnails/234e9bc72a6719996d38dc3ff3d91a40-070b976a637aa0862a81f0ee01d17832:getPixels\n",
      "2008 https://earthengine.googleapis.com/v1alpha/projects/earthengine-legacy/thumbnails/d27f45becb51a4224dd0054354f8c607-6a164a9261bb1354ebe032bed4a16b4f:getPixels\n",
      "2009 https://earthengine.googleapis.com/v1alpha/projects/earthengine-legacy/thumbnails/d6f961c4a862a86e2fff2fa8d218568b-73ba7213f3cddfc7e282d52ee4eea667:getPixels\n",
      "2010 https://earthengine.googleapis.com/v1alpha/projects/earthengine-legacy/thumbnails/6088dbf516ddb4b8ef473e916ae76f9d-bb375ae1d822d98fafe381e5d75e4ad2:getPixels\n",
      "2011 https://earthengine.googleapis.com/v1alpha/projects/earthengine-legacy/thumbnails/027adbc949cca2652b932085a831dc8b-5a1939adee8884595f428c3bee769339:getPixels\n",
      "2012 https://earthengine.googleapis.com/v1alpha/projects/earthengine-legacy/thumbnails/f44a1cd46452025d1964a6b00378109b-f8ffc0e375319f9d5a366ca54cd41383:getPixels\n",
      "2013 https://earthengine.googleapis.com/v1alpha/projects/earthengine-legacy/thumbnails/2ba48fbad3f5960e644ad531b3035862-2d74ebac47e8f69253ded85226fe92cb:getPixels\n",
      "1992 https://earthengine.googleapis.com/v1alpha/projects/earthengine-legacy/thumbnails/f025111a29b11a5cb9951923f301d81b-b1b4d52fe720ce1e882baf5a4dd3e2ea:getPixels\n",
      "1993 https://earthengine.googleapis.com/v1alpha/projects/earthengine-legacy/thumbnails/8c1fa07b4c522ed1cf147a8284a9c7a7-84620bbe178ec9859620a1ed6d87d3fd:getPixels\n",
      "1994 https://earthengine.googleapis.com/v1alpha/projects/earthengine-legacy/thumbnails/badbd3edd713b36c837137e867ec9660-7156ab4d21978fa1cb07a7dee65e55e9:getPixels\n",
      "1995 https://earthengine.googleapis.com/v1alpha/projects/earthengine-legacy/thumbnails/a0374d14f6fb0924679a05e96eacb368-47e873e6c556b884052636b90afe0009:getPixels\n",
      "1996 https://earthengine.googleapis.com/v1alpha/projects/earthengine-legacy/thumbnails/07fb0101e441dba5c2fc44676059b95d-f337887d3dbe0b15e952813ee1d24ffa:getPixels\n",
      "1997 https://earthengine.googleapis.com/v1alpha/projects/earthengine-legacy/thumbnails/e19847fccd293baa0f94961ad822b77b-49dd763fc74892d6044a77776b647d06:getPixels\n",
      "1998 https://earthengine.googleapis.com/v1alpha/projects/earthengine-legacy/thumbnails/2ae50c6a92cc552650c030f493956f9e-4ca384a0cb45bba7d30f45c5d8a04d87:getPixels\n",
      "1999 https://earthengine.googleapis.com/v1alpha/projects/earthengine-legacy/thumbnails/decf7a354293495d5a84b299e0deaadf-c1d1e43b475b21eb94951f1f1b57ad30:getPixels\n",
      "2000 https://earthengine.googleapis.com/v1alpha/projects/earthengine-legacy/thumbnails/169175bd924e2101c5f0153e1cd3f810-b227611221affad6360766d220190409:getPixels\n",
      "2001 https://earthengine.googleapis.com/v1alpha/projects/earthengine-legacy/thumbnails/333db51cef0a89d54e355f7f0ddfef0a-c7a515a29ee5aa0646c93b4c300f11b1:getPixels\n",
      "2002 https://earthengine.googleapis.com/v1alpha/projects/earthengine-legacy/thumbnails/9088e632ff98ae554f6be77ebd1ea270-beeedd378be354c28cd0af096b213df6:getPixels\n",
      "2003 https://earthengine.googleapis.com/v1alpha/projects/earthengine-legacy/thumbnails/0446771db7ddce5d465026e864454f1e-3266a18044f555221ff7c6f8a3ae9841:getPixels\n",
      "2004 https://earthengine.googleapis.com/v1alpha/projects/earthengine-legacy/thumbnails/241b47c2ca4dccd49128dedea453cc0b-da9bb52b4adb977d53a27f8aa8211c6e:getPixels\n",
      "2005 https://earthengine.googleapis.com/v1alpha/projects/earthengine-legacy/thumbnails/9f3345c3434dc904efd7acb54ab8c5cb-7e96cfbbab1e5c9b5b9ec7aedd1bb41a:getPixels\n",
      "2006 https://earthengine.googleapis.com/v1alpha/projects/earthengine-legacy/thumbnails/607980ba63170da7bac6ef189eeef821-fcda813d7a21ec9a570ef1bb2404b4c7:getPixels\n",
      "2007 https://earthengine.googleapis.com/v1alpha/projects/earthengine-legacy/thumbnails/234e9bc72a6719996d38dc3ff3d91a40-f0e48c2305ac9f9fc6575722684266f2:getPixels\n",
      "2008 https://earthengine.googleapis.com/v1alpha/projects/earthengine-legacy/thumbnails/d27f45becb51a4224dd0054354f8c607-613e7de6d911ff88c627c75c74043be6:getPixels\n",
      "2009 https://earthengine.googleapis.com/v1alpha/projects/earthengine-legacy/thumbnails/d6f961c4a862a86e2fff2fa8d218568b-a2e06b6325b07f657d50d4dd2b457bad:getPixels\n",
      "2010 https://earthengine.googleapis.com/v1alpha/projects/earthengine-legacy/thumbnails/6088dbf516ddb4b8ef473e916ae76f9d-74d00818bfbfd1fca4d8537735b2da9a:getPixels\n",
      "2011 https://earthengine.googleapis.com/v1alpha/projects/earthengine-legacy/thumbnails/027adbc949cca2652b932085a831dc8b-7b4fff1d5fa824a8972ac8bd3934562f:getPixels\n",
      "2012 https://earthengine.googleapis.com/v1alpha/projects/earthengine-legacy/thumbnails/f44a1cd46452025d1964a6b00378109b-9be10c3a0e4f87dbfd0b58322b8d196d:getPixels\n",
      "2013 https://earthengine.googleapis.com/v1alpha/projects/earthengine-legacy/thumbnails/2ba48fbad3f5960e644ad531b3035862-6d51f8d59f942ab3015077865ac5a546:getPixels\n"
     ]
    }
   ],
   "source": [
    "output_folder = r\"output\"\n",
    "if not os.path.isdir(output_folder):\n",
    "    os.mkdir(output_folder)\n",
    "\n",
    "for country in countries_interested:\n",
    "    print(country)\n",
    "    for year, data in dataset_ccnl_filtered.items():\n",
    "        print(year, end=' ')\n",
    "        \n",
    "        data = data.clip(ca_geom)\n",
    "        \n",
    "        dl_para = {\n",
    "            'bands': ['b1'],\n",
    "            'region': ca_geom,\n",
    "            'scale': 2000,\n",
    "            'format': 'NPY'\n",
    "        }\n",
    "        print(data.getDownloadUrl(dl_para))\n",
    "        response = requests.get(data.getDownloadUrl(dl_para))\n",
    "        _output_ = output_folder + \"\\\\\" + country + \"_\" + str(year) + \".npy\"\n",
    "        open(_output_, \"wb\").write(response.content)\n",
    "        # break\n",
    "    # break"
   ]
  },
  {
   "cell_type": "code",
   "execution_count": null,
   "id": "66caa2f3-7164-41f2-b4f1-7b0c19e9ea5e",
   "metadata": {},
   "outputs": [],
   "source": []
  }
 ],
 "metadata": {
  "hide_input": false,
  "kernelspec": {
   "display_name": "Python 3 (ipykernel)",
   "language": "python",
   "name": "python3"
  },
  "language_info": {
   "codemirror_mode": {
    "name": "ipython",
    "version": 3
   },
   "file_extension": ".py",
   "mimetype": "text/x-python",
   "name": "python",
   "nbconvert_exporter": "python",
   "pygments_lexer": "ipython3",
   "version": "3.10.8"
  },
  "toc": {
   "base_numbering": 1,
   "nav_menu": {},
   "number_sections": true,
   "sideBar": true,
   "skip_h1_title": false,
   "title_cell": "Table of Contents",
   "title_sidebar": "Contents",
   "toc_cell": false,
   "toc_position": {},
   "toc_section_display": true,
   "toc_window_display": false
  }
 },
 "nbformat": 4,
 "nbformat_minor": 5
}
