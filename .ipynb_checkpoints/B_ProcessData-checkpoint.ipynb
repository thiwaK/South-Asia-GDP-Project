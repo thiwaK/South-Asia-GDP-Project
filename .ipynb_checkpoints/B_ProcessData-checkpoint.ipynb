{
 "cells": [
  {
   "cell_type": "code",
   "execution_count": 29,
   "id": "67bdf2ea",
   "metadata": {
    "tags": []
   },
   "outputs": [],
   "source": [
    "import pandas as ps\n",
    "import rasterio\n",
    "import re\n",
    "import numpy as np\n",
    "\n",
    "from shapely.geometry import Polygon\n",
    "from shapely.geometry import shape\n",
    "\n",
    "import rasterio\n",
    "from rasterio.mask import mask\n",
    "from rasterio.transform import from_bounds\n",
    "from rasterio.plot import show, show_hist\n",
    "from rasterio.fill import fillnodata\n",
    "\n",
    "import os\n",
    "import shapely\n",
    "import geojson\n",
    "import fiona"
   ]
  },
  {
   "cell_type": "code",
   "execution_count": 12,
   "id": "4fd6df69",
   "metadata": {
    "tags": []
   },
   "outputs": [],
   "source": [
    "# base_dir = r\"D:\\Acadamics\\University\\Year_3\\Sem_2\\GIS3005 - Remote Sensing\\Assignment\\1\"\n",
    "base_dir = os.getcwd()\n",
    "countries_interested = [\"Pakistan\", \"Nepal\", \"Sri Lanka\", \"India\", \"Bhutan\", \"Bangladesh\"]\n",
    "gdp_dataset = os.path.join(base_dir, r\"GDP\\API_NY.GDP.MKTP.CD_DS2_en_csv_v2_4770391.csv\")\n",
    "gdp_dataset_filtered = os.path.join(base_dir, r\"GDP\\API_NY.GDP.MKTP.CD_DS2_en_csv_v2_4770391_filtered.csv\")\n",
    "nightlight = os.path.join(base_dir, r\"nightlight.csv\")\n",
    "output_folder = os.path.join(base_dir, r\"output\")\n",
    "year_from = 1992\n",
    "year_to = 2013"
   ]
  },
  {
   "cell_type": "code",
   "execution_count": 13,
   "id": "5ee6b83c",
   "metadata": {
    "tags": []
   },
   "outputs": [],
   "source": [
    "'''\n",
    "Filter WorldBank's current GDP dataset\n",
    "'''\n",
    "df = ps.read_csv(gdp_dataset, skiprows=0, na_values=None)\n",
    "df.drop(['Unnamed: 66'], axis=1, inplace=True)\n",
    "df.rename(columns={'Country Name':'Name', 'Country Code':'Code', 'Indicator Name':'IName', 'Indicator Code':'ICode'}, inplace=True)\n",
    "# print(df.head())\n",
    "\n",
    "df = df.drop([str(x) for x in range(1960, 1992)] + ['IName', 'ICode'], axis=1)\n",
    "df = df[df.Name.isin(countries_interested)]\n",
    "df = df.set_index('Name')\n",
    "# print(df.head())\n",
    "\n",
    "df.to_csv(gdp_dataset_filtered, index=True)\n"
   ]
  },
  {
   "cell_type": "code",
   "execution_count": 14,
   "id": "3e2fe888",
   "metadata": {
    "tags": []
   },
   "outputs": [],
   "source": [
    "class progress():\n",
    "    def __init__(self, current, maximum):\n",
    "        self.current = current\n",
    "        self.maximum = maximum\n",
    "        self.BAR_WIDTH = 40\n",
    "        \n",
    "        self.current -=1\n",
    "        self.next()\n",
    "        \n",
    "        \n",
    "    def next(self):\n",
    "        self.current += 1\n",
    "        x = int(self.BAR_WIDTH*self.current/self.maximum)\n",
    "        y = round(self.current/self.maximum*100, 1)\n",
    "        text_pb = \"{}[{}{}] {}/{} {}%\".format(\"Processing\", \"#\"*x, \".\"*(self.BAR_WIDTH-x), self.current, self.maximum, y)\n",
    "        print(text_pb, end='\\r', file=sys.stdout, flush=True)"
   ]
  },
  {
   "cell_type": "code",
   "execution_count": 15,
   "id": "ea8ce43c",
   "metadata": {
    "tags": []
   },
   "outputs": [],
   "source": [
    "def get_files(path, extention=\".tif\", regex=\"\"):\n",
    "    files = []\n",
    "    for file in os.listdir(path):\n",
    "        if file.endswith(extention):\n",
    "            if regex != \"\":\n",
    "                if not re.match(regex, file): continue\n",
    "            temp_path = os.path.join(path, file)\n",
    "            if os.path.exists(temp_path):\n",
    "                files.append(temp_path)\n",
    "    return files"
   ]
  },
  {
   "cell_type": "code",
   "execution_count": 16,
   "id": "9c9dbd4c",
   "metadata": {
    "tags": []
   },
   "outputs": [],
   "source": [
    "def load(npy_file, band=None):\n",
    "    if os.path.isfile(npy_file):\n",
    "        if band == None: return np.load(npy_file)\n",
    "        return np.load(npy_file)[band]\n",
    "    return None"
   ]
  },
  {
   "cell_type": "code",
   "execution_count": 22,
   "id": "b6fa5c69-af98-4886-b5a3-441771af1b91",
   "metadata": {},
   "outputs": [],
   "source": [
    "def clip_(raster, geometry):\n",
    "    out_image = mask(raster, geometry, crop=True)\n",
    "    return out_image"
   ]
  },
  {
   "cell_type": "code",
   "execution_count": 59,
   "id": "87200ea2-83de-493e-b006-382cb26ff472",
   "metadata": {},
   "outputs": [],
   "source": [
    "def clip(shapefile_path, raster_path, clipped_folder=\"out\", attribute='NAME_0'):\n",
    "    # Open the shapefile\n",
    "    with fiona.open(shapefile_path, \"r\") as shapefile:\n",
    "        # Iterate over the features\n",
    "        for feature in shapefile:\n",
    "            # Get the geometry\n",
    "            geometry = shape(feature[\"geometry\"])\n",
    "            name_suffix = feature['properties'][attribute]\n",
    "            # print(shapefile.schema['properties'].keys())\n",
    "\n",
    "            # Open the raster file\n",
    "            with rasterio.open(raster_path) as raster:\n",
    "                # Clip the raster using the current geometry\n",
    "                clipped, transform = mask(dataset=raster, shapes=[geometry], crop=True)\n",
    "\n",
    "                # Update the metadata for the clipped raster\n",
    "                clipped_meta = raster.meta.copy()\n",
    "                clipped_meta.update({\n",
    "                    \"width\": clipped.shape[2],\n",
    "                    \"height\": clipped.shape[1],\n",
    "                    \"transform\": transform\n",
    "                })\n",
    "\n",
    "                # Generate a unique filename for the clipped raster\n",
    "                filename = f\"clipped_{feature[attribute]}.tif\"\n",
    "                clipped_path = f\"{clipped_folder}/{filename}\"\n",
    "\n",
    "                # Write the clipped raster to a new file\n",
    "                with rasterio.open(clipped_path, \"w\", **clipped_meta) as dst:\n",
    "                    dst.write(clipped)\n",
    "\n",
    "                print(\"Raster clipped and saved to:\", clipped_path)"
   ]
  },
  {
   "cell_type": "code",
   "execution_count": 60,
   "id": "8e033c42-e762-42b6-baf9-ba2e282aee0f",
   "metadata": {},
   "outputs": [
    {
     "name": "stdout",
     "output_type": "stream",
     "text": [
      "dict_keys(['OBJECTID', 'ID_0', 'ISO', 'NAME_0', 'OBJECTID_1', 'ISO3', 'NAME_ENGLI', 'NAME_ISO', 'NAME_FAO', 'NAME_LOCAL', 'NAME_OBSOL', 'NAME_VARIA', 'NAME_NONLA', 'NAME_FRENC', 'NAME_SPANI', 'NAME_RUSSI', 'NAME_ARABI', 'NAME_CHINE', 'WASPARTOF', 'CONTAINS', 'SOVEREIGN', 'ISO2', 'WWW', 'FIPS', 'ISON', 'VALIDFR', 'VALIDTO', 'POP2000', 'SQKM', 'POPSQKM', 'UNREGION1', 'UNREGION2', 'DEVELOPING', 'CIS', 'Transition', 'OECD', 'WBREGION', 'WBINCOME', 'WBDEBT', 'WBOTHER', 'CEEAC', 'CEMAC', 'CEPLG', 'COMESA', 'EAC', 'ECOWAS', 'IGAD', 'IOC', 'MRU', 'SACU', 'UEMOA', 'UMA', 'PALOP', 'PARTA', 'CACM', 'EurAsEC', 'Agadir', 'SAARC', 'ASEAN', 'NAFTA', 'GCC', 'CSN', 'CARICOM', 'EU', 'CAN', 'ACP', 'Landlocked', 'AOSIS', 'SIDS', 'Islands', 'LDC', 'Shape_Leng', 'Shape_Area'])\n",
      "Pakistan\n"
     ]
    },
    {
     "ename": "KeyError",
     "evalue": "'NAME_0'",
     "output_type": "error",
     "traceback": [
      "\u001b[1;31m---------------------------------------------------------------------------\u001b[0m",
      "\u001b[1;31mKeyError\u001b[0m                                  Traceback (most recent call last)",
      "Cell \u001b[1;32mIn[60], line 4\u001b[0m\n\u001b[0;32m      1\u001b[0m shp \u001b[38;5;241m=\u001b[39m os\u001b[38;5;241m.\u001b[39mpath\u001b[38;5;241m.\u001b[39mjoin(base_dir, \u001b[38;5;124m\"\u001b[39m\u001b[38;5;124msAsia\u001b[39m\u001b[38;5;124m\"\u001b[39m, \u001b[38;5;124m\"\u001b[39m\u001b[38;5;124mSAsia_Merged.shp\u001b[39m\u001b[38;5;124m\"\u001b[39m)\n\u001b[0;32m      2\u001b[0m tif \u001b[38;5;241m=\u001b[39m \u001b[38;5;124mr\u001b[39m\u001b[38;5;124m\"\u001b[39m\u001b[38;5;124mE:\u001b[39m\u001b[38;5;124m\\\u001b[39m\u001b[38;5;124mCode\u001b[39m\u001b[38;5;124m\\\u001b[39m\u001b[38;5;124mPython\u001b[39m\u001b[38;5;124m\\\u001b[39m\u001b[38;5;124mSouth-Asia-GDP-Project\u001b[39m\u001b[38;5;124m\\\u001b[39m\u001b[38;5;124moutput\u001b[39m\u001b[38;5;124m\\\u001b[39m\u001b[38;5;124mF101992.v4b.global.stable_lights.avg_vis.tif\u001b[39m\u001b[38;5;124m\"\u001b[39m\n\u001b[1;32m----> 4\u001b[0m clip(shp, tif, \u001b[38;5;124m\"\u001b[39m\u001b[38;5;124mout\u001b[39m\u001b[38;5;124m\"\u001b[39m)\n",
      "Cell \u001b[1;32mIn[59], line 26\u001b[0m, in \u001b[0;36mclip\u001b[1;34m(shapefile_path, raster_path, clipped_folder, attribute)\u001b[0m\n\u001b[0;32m     19\u001b[0m clipped_meta\u001b[38;5;241m.\u001b[39mupdate({\n\u001b[0;32m     20\u001b[0m     \u001b[38;5;124m\"\u001b[39m\u001b[38;5;124mwidth\u001b[39m\u001b[38;5;124m\"\u001b[39m: clipped\u001b[38;5;241m.\u001b[39mshape[\u001b[38;5;241m2\u001b[39m],\n\u001b[0;32m     21\u001b[0m     \u001b[38;5;124m\"\u001b[39m\u001b[38;5;124mheight\u001b[39m\u001b[38;5;124m\"\u001b[39m: clipped\u001b[38;5;241m.\u001b[39mshape[\u001b[38;5;241m1\u001b[39m],\n\u001b[0;32m     22\u001b[0m     \u001b[38;5;124m\"\u001b[39m\u001b[38;5;124mtransform\u001b[39m\u001b[38;5;124m\"\u001b[39m: transform\n\u001b[0;32m     23\u001b[0m })\n\u001b[0;32m     25\u001b[0m \u001b[38;5;66;03m# Generate a unique filename for the clipped raster\u001b[39;00m\n\u001b[1;32m---> 26\u001b[0m filename \u001b[38;5;241m=\u001b[39m \u001b[38;5;124mf\u001b[39m\u001b[38;5;124m\"\u001b[39m\u001b[38;5;124mclipped_\u001b[39m\u001b[38;5;132;01m{\u001b[39;00mfeature[attribute]\u001b[38;5;132;01m}\u001b[39;00m\u001b[38;5;124m.tif\u001b[39m\u001b[38;5;124m\"\u001b[39m\n\u001b[0;32m     27\u001b[0m clipped_path \u001b[38;5;241m=\u001b[39m \u001b[38;5;124mf\u001b[39m\u001b[38;5;124m\"\u001b[39m\u001b[38;5;132;01m{\u001b[39;00mclipped_folder\u001b[38;5;132;01m}\u001b[39;00m\u001b[38;5;124m/\u001b[39m\u001b[38;5;132;01m{\u001b[39;00mfilename\u001b[38;5;132;01m}\u001b[39;00m\u001b[38;5;124m\"\u001b[39m\n\u001b[0;32m     29\u001b[0m \u001b[38;5;66;03m# Write the clipped raster to a new file\u001b[39;00m\n",
      "File \u001b[1;32mD:\\TOOLS\\minconda_3\\envs\\gee\\Lib\\site-packages\\fiona\\model.py:140\u001b[0m, in \u001b[0;36mObject.__getitem__\u001b[1;34m(self, item)\u001b[0m\n\u001b[0;32m    138\u001b[0m props \u001b[38;5;241m=\u001b[39m \u001b[38;5;28mself\u001b[39m\u001b[38;5;241m.\u001b[39m_props()\n\u001b[0;32m    139\u001b[0m props\u001b[38;5;241m.\u001b[39mupdate(\u001b[38;5;241m*\u001b[39m\u001b[38;5;241m*\u001b[39m\u001b[38;5;28mself\u001b[39m\u001b[38;5;241m.\u001b[39m_data)\n\u001b[1;32m--> 140\u001b[0m \u001b[38;5;28;01mreturn\u001b[39;00m props[item]\n",
      "\u001b[1;31mKeyError\u001b[0m: 'NAME_0'"
     ]
    }
   ],
   "source": [
    "\n",
    "shp = os.path.join(base_dir, \"sAsia\", \"SAsia_Merged.shp\")\n",
    "tif = r\"E:\\Code\\Python\\South-Asia-GDP-Project\\output\\F101992.v4b.global.stable_lights.avg_vis.tif\"\n",
    "\n",
    "clip(shp, tif, \"out\")\n",
    "\n",
    "# for feature in src:\n",
    "#     geometry = shape(feature['geometry'])\n",
    "#     geoJson = geojson.Feature(geometry=geometry, properties=src.meta).geometry\n",
    "    \n",
    "#     print(type(geometry))\n",
    "#     print(type(geoJson))\n",
    "#     cliped_tif = clip(, geoJson)"
   ]
  },
  {
   "cell_type": "code",
   "execution_count": null,
   "id": "90ddcadd-4722-4ef3-99ac-07082fdf8bff",
   "metadata": {},
   "outputs": [],
   "source": [
    "import fiona\n",
    "with fiona.open(os.path.join(base_dir, \"sAsia\", \"SAsia_Merged.shp\")) as src:\n",
    "    # Iterate over the features\n",
    "    for feature in src:\n",
    "        \n",
    "        attribute_names = [field_name for field_name in src.schema['properties']]\n",
    "        print(attribute_names)\n",
    "        # attributes = feature['NAME_0']\n",
    "\n",
    "        geometry = shape(feature['geometry'])\n",
    "\n",
    "        # Print or perform operations with the polygon\n",
    "        print(geometry)"
   ]
  },
  {
   "cell_type": "code",
   "execution_count": null,
   "id": "49611fdc-b928-4d37-a353-65207bb1524f",
   "metadata": {},
   "outputs": [],
   "source": [
    "import json\n",
    "from shapely.geometry import shape\n",
    "def process_non_gee(tif_collection):\n",
    "    for co in countries_interested:\n",
    "        print(\"Processing...\", end=\"\")\n",
    "        ca_geom = ee.FeatureCollection(\"USDOS/LSIB_SIMPLE/2017\").filter(ee.Filter.eq('country_na', country)).getInfo()\n",
    "        # print(ca_geom)\n",
    "        geometry_json = json.dumps(ca_geom)\n",
    "        geometry = shape(json.loads(geometry_json))\n",
    "        print(list(geometry))\n",
    "        # for tif in tif_collection:\n",
    "        #     cliped_tif = clip(tif, geometry)\n",
    "        #     year = str(re.findall(r\"F\\d\\d(\\d+)\", x)[0])\n",
    "        #     print(year + \", \", end=\"\")\n",
    "        #     file_name = co + \"_\" +  + \".npy\"\n",
    "        #     print(file_name)\n",
    "        #     print(type(cliped_tif))\n",
    "        #     break\n",
    "        break"
   ]
  },
  {
   "cell_type": "code",
   "execution_count": null,
   "id": "7e6653c5",
   "metadata": {
    "tags": []
   },
   "outputs": [],
   "source": [
    "'''\n",
    "Process Night Light Entensity npy\n",
    "'''\n",
    "gee = False # is this data from gee\n",
    "\n",
    "if gee:\n",
    "    npys = get_files(output_folder, '.npy')\n",
    "    npys = [{'npy':load(x)['b1'], 'country':os.path.splitext(os.path.split(x)[-1])[0].split(\"_\")[0], 'year':int(os.path.splitext(os.path.split(x)[-1])[0].split(\"_\")[-1])} for x in npys]\n",
    "else:\n",
    "    tif = get_files(output_folder, '.tif')\n",
    "    process_non_gee(tif)\n",
    "        \n"
   ]
  },
  {
   "cell_type": "code",
   "execution_count": null,
   "id": "644fd950",
   "metadata": {
    "tags": []
   },
   "outputs": [],
   "source": [
    "df = ps.DataFrame(npys)"
   ]
  },
  {
   "cell_type": "code",
   "execution_count": null,
   "id": "f314fc49",
   "metadata": {
    "tags": []
   },
   "outputs": [],
   "source": [
    "data = {\"country\":[], \"year\":[], 'nightlight':[]}\n",
    "for country in countries_interested:\n",
    "    nldf = df[df.country == country]\n",
    "\n",
    "    for index, item in nldf.iterrows():\n",
    "        b1 = item.npy\n",
    "        # show(b1)\n",
    "        # show_hist(b1, bins=100)\n",
    "\n",
    "        mask = b1[::] > 3\n",
    "        fillnodata(b1, mask=mask)\n",
    "\n",
    "        mask = b1[::] < 60\n",
    "        fillnodata(b1, mask=mask)\n",
    "        \n",
    "        data[\"country\"].append(country)\n",
    "        data[\"year\"].append(item.year)\n",
    "        data[\"nightlight\"].append(b1.mean())"
   ]
  },
  {
   "cell_type": "code",
   "execution_count": null,
   "id": "a69e5474",
   "metadata": {
    "tags": []
   },
   "outputs": [],
   "source": [
    "df = ps.DataFrame(data)\n",
    "df.set_index('country')"
   ]
  },
  {
   "cell_type": "code",
   "execution_count": null,
   "id": "277275ee",
   "metadata": {
    "tags": []
   },
   "outputs": [],
   "source": [
    "df.to_csv(nightlight, index=True)"
   ]
  },
  {
   "cell_type": "code",
   "execution_count": null,
   "id": "a9e835e9",
   "metadata": {},
   "outputs": [],
   "source": []
  }
 ],
 "metadata": {
  "hide_input": false,
  "kernelspec": {
   "display_name": "Python 3 (ipykernel)",
   "language": "python",
   "name": "python3"
  },
  "language_info": {
   "codemirror_mode": {
    "name": "ipython",
    "version": 3
   },
   "file_extension": ".py",
   "mimetype": "text/x-python",
   "name": "python",
   "nbconvert_exporter": "python",
   "pygments_lexer": "ipython3",
   "version": "3.11.3"
  },
  "toc": {
   "base_numbering": 1,
   "nav_menu": {},
   "number_sections": true,
   "sideBar": true,
   "skip_h1_title": false,
   "title_cell": "Table of Contents",
   "title_sidebar": "Contents",
   "toc_cell": false,
   "toc_position": {},
   "toc_section_display": true,
   "toc_window_display": false
  }
 },
 "nbformat": 4,
 "nbformat_minor": 5
}
