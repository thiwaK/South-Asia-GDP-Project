{
 "cells": [
  {
   "cell_type": "code",
   "execution_count": 3,
   "id": "67bdf2ea",
   "metadata": {
    "tags": []
   },
   "outputs": [],
   "source": [
    "import pandas as ps\n",
    "import rasterio\n",
    "import numpy as np\n",
    "from rasterio.transform import from_bounds\n",
    "from rasterio.plot import show, show_hist\n",
    "from rasterio.fill import fillnodata\n",
    "import os\n",
    "\n"
   ]
  },
  {
   "cell_type": "code",
   "execution_count": 4,
   "id": "4fd6df69",
   "metadata": {
    "tags": []
   },
   "outputs": [],
   "source": [
    "# base_dir = r\"D:\\Acadamics\\University\\Year_3\\Sem_2\\GIS3005 - Remote Sensing\\Assignment\\1\"\n",
    "base_dir = os.getcwd()\n",
    "countries_interested = [\"Pakistan\", \"Nepal\", \"Sri Lanka\", \"India\", \"Bhutan\", \"Bangladesh\"]\n",
    "gdp_dataset = os.path.join(base_dir, r\"GDP\\API_NY.GDP.MKTP.CD_DS2_en_csv_v2_4770391.csv\")\n",
    "gdp_dataset_filtered = os.path.join(base_dir, r\"GDP\\API_NY.GDP.MKTP.CD_DS2_en_csv_v2_4770391_filtered.csv\")\n",
    "nightlight = os.path.join(base_dir, r\"nightlight.csv\")\n",
    "output_folder = os.path.join(base_dir, r\"output\")\n",
    "year_from = 1992\n",
    "year_to = 2013"
   ]
  },
  {
   "cell_type": "code",
   "execution_count": 5,
   "id": "5ee6b83c",
   "metadata": {
    "collapsed": true,
    "jupyter": {
     "outputs_hidden": true
    },
    "tags": []
   },
   "outputs": [
    {
     "name": "stdout",
     "output_type": "stream",
     "text": [
      "           Code          1992          1993          1994          1995  \\\n",
      "Name                                                                      \n",
      "Bangladesh  BGD  3.170887e+10  3.316652e+10  3.376866e+10  3.793975e+10   \n",
      "Bhutan      BTN  2.402158e+08  2.259981e+08  2.589856e+08  2.904648e+08   \n",
      "India       IND  2.882084e+11  2.792960e+11  3.272756e+11  3.602820e+11   \n",
      "Sri Lanka   LKA  9.703012e+09  1.033868e+10  1.171760e+10  1.302970e+10   \n",
      "Nepal       NPL  3.401212e+09  3.660042e+09  4.066776e+09  4.401104e+09   \n",
      "\n",
      "                    1996          1997          1998          1999  \\\n",
      "Name                                                                 \n",
      "Bangladesh  4.643848e+10  4.824431e+10  4.998456e+10  5.127057e+10   \n",
      "Bhutan      3.034355e+08  3.522610e+08  3.634528e+08  3.992688e+08   \n",
      "India       3.928971e+11  4.158678e+11  4.213515e+11  4.588204e+11   \n",
      "Sri Lanka   1.389774e+10  1.509191e+10  1.579497e+10  1.565633e+10   \n",
      "Nepal       4.521580e+09  4.918692e+09  4.856255e+09  5.033642e+09   \n",
      "\n",
      "                    2000  ...          2012          2013          2014  \\\n",
      "Name                      ...                                             \n",
      "Bangladesh  5.336979e+10  ...  1.333557e+11  1.499905e+11  1.728855e+11   \n",
      "Bhutan      4.244641e+08  ...  1.781281e+09  1.756216e+09  1.907091e+09   \n",
      "India       4.683949e+11  ...  1.827638e+12  1.856722e+12  2.039127e+12   \n",
      "Sri Lanka   1.633081e+10  ...  7.044719e+10  7.700060e+10  8.252853e+10   \n",
      "Nepal       5.494252e+09  ...  2.170311e+10  2.216221e+10  2.273160e+10   \n",
      "\n",
      "                    2015          2016          2017          2018  \\\n",
      "Name                                                                 \n",
      "Bangladesh  1.950787e+11  2.652362e+11  2.937546e+11  3.213790e+11   \n",
      "Bhutan      2.003598e+09  2.158972e+09  2.450365e+09  2.446866e+09   \n",
      "India       2.103588e+12  2.294798e+12  2.651473e+12  2.702930e+12   \n",
      "Sri Lanka   8.514096e+10  8.801226e+10  9.437625e+10  9.449385e+10   \n",
      "Nepal       2.436080e+10  2.452410e+10  2.897159e+10  3.311153e+10   \n",
      "\n",
      "                    2019          2020          2021  \n",
      "Name                                                  \n",
      "Bangladesh  3.512385e+11  3.739021e+11  4.162649e+11  \n",
      "Bhutan      2.535657e+09  2.325184e+09  2.539553e+09  \n",
      "India       2.831552e+12  2.667688e+12  3.176295e+12  \n",
      "Sri Lanka   8.901499e+10  8.534911e+10  8.892726e+10  \n",
      "Nepal       3.418619e+10  3.343367e+10  3.628883e+10  \n",
      "\n",
      "[5 rows x 31 columns]\n"
     ]
    }
   ],
   "source": [
    "'''\n",
    "Filter WorldBank's current GDP dataset\n",
    "'''\n",
    "df = ps.read_csv(gdp_dataset, skiprows=0, na_values=None)\n",
    "df.drop(['Unnamed: 66'], axis=1, inplace=True)\n",
    "df.rename(columns={'Country Name':'Name', 'Country Code':'Code', 'Indicator Name':'IName', 'Indicator Code':'ICode'}, inplace=True)\n",
    "# print(df.head())\n",
    "\n",
    "df = df.drop([str(x) for x in range(1960, 1992)] + ['IName', 'ICode'], axis=1)\n",
    "df = df[df.Name.isin(countries_interested)]\n",
    "df = df.set_index('Name')\n",
    "print(df.head())\n",
    "\n",
    "df.to_csv(gdp_dataset_filtered, index=True)\n"
   ]
  },
  {
   "cell_type": "code",
   "execution_count": 6,
   "id": "3e2fe888",
   "metadata": {
    "tags": []
   },
   "outputs": [],
   "source": [
    "class progress():\n",
    "    def __init__(self, current, maximum):\n",
    "        self.current = current\n",
    "        self.maximum = maximum\n",
    "        self.BAR_WIDTH = 40\n",
    "        \n",
    "        self.current -=1\n",
    "        self.next()\n",
    "        \n",
    "        \n",
    "    def next(self):\n",
    "        self.current += 1\n",
    "        x = int(self.BAR_WIDTH*self.current/self.maximum)\n",
    "        y = round(self.current/self.maximum*100, 1)\n",
    "        text_pb = \"{}[{}{}] {}/{} {}%\".format(\"Processing\", \"#\"*x, \".\"*(self.BAR_WIDTH-x), self.current, self.maximum, y)\n",
    "        print(text_pb, end='\\r', file=sys.stdout, flush=True)"
   ]
  },
  {
   "cell_type": "code",
   "execution_count": 7,
   "id": "ea8ce43c",
   "metadata": {
    "tags": []
   },
   "outputs": [],
   "source": [
    "def get_files(path, extention=\".tif\", regex=\"\"):\n",
    "    files = []\n",
    "    for file in os.listdir(path):\n",
    "        if file.endswith(extention):\n",
    "            if regex != \"\":\n",
    "                if not re.match(regex, file): continue\n",
    "            temp_path = os.path.join(path, file)\n",
    "            if os.path.exists(temp_path):\n",
    "                files.append(temp_path)\n",
    "    return files"
   ]
  },
  {
   "cell_type": "code",
   "execution_count": 8,
   "id": "9c9dbd4c",
   "metadata": {
    "tags": []
   },
   "outputs": [],
   "source": [
    "def load(npy_file, band=None):\n",
    "    if os.path.isfile(npy_file):\n",
    "        if band == None: return np.load(npy_file)\n",
    "        return np.load(npy_file)[band]\n",
    "    return None"
   ]
  },
  {
   "cell_type": "code",
   "execution_count": 9,
   "id": "7e6653c5",
   "metadata": {
    "tags": []
   },
   "outputs": [],
   "source": [
    "'''\n",
    "Process Night Light Entensity npy\n",
    "'''\n",
    "npys = get_files(output_folder, '.npy')\n",
    "npys = [{'npy':load(x)['b1'], 'country':os.path.splitext(os.path.split(x)[-1])[0].split(\"_\")[0], 'year':int(os.path.splitext(os.path.split(x)[-1])[0].split(\"_\")[-1])} for x in npys]\n"
   ]
  },
  {
   "cell_type": "code",
   "execution_count": 10,
   "id": "644fd950",
   "metadata": {
    "tags": []
   },
   "outputs": [],
   "source": [
    "df = ps.DataFrame(npys)"
   ]
  },
  {
   "cell_type": "code",
   "execution_count": 12,
   "id": "f314fc49",
   "metadata": {
    "tags": []
   },
   "outputs": [],
   "source": [
    "data = {\"country\":[], \"year\":[], 'nightlight':[]}\n",
    "for country in countries_interested:\n",
    "    nldf = df[df.country == country]\n",
    "\n",
    "    for index, item in nldf.iterrows():\n",
    "        b1 = item.npy\n",
    "        # show(b1)\n",
    "        # show_hist(b1, bins=100)\n",
    "\n",
    "        mask = b1[::] > 3\n",
    "        fillnodata(b1, mask=mask)\n",
    "\n",
    "        mask = b1[::] < 60\n",
    "        fillnodata(b1, mask=mask)\n",
    "        \n",
    "        data[\"country\"].append(country)\n",
    "        data[\"year\"].append(item.year)\n",
    "        data[\"nightlight\"].append(b1.mean())"
   ]
  },
  {
   "cell_type": "code",
   "execution_count": 13,
   "id": "a69e5474",
   "metadata": {
    "tags": []
   },
   "outputs": [
    {
     "data": {
      "text/html": [
       "<div>\n",
       "<style scoped>\n",
       "    .dataframe tbody tr th:only-of-type {\n",
       "        vertical-align: middle;\n",
       "    }\n",
       "\n",
       "    .dataframe tbody tr th {\n",
       "        vertical-align: top;\n",
       "    }\n",
       "\n",
       "    .dataframe thead th {\n",
       "        text-align: right;\n",
       "    }\n",
       "</style>\n",
       "<table border=\"1\" class=\"dataframe\">\n",
       "  <thead>\n",
       "    <tr style=\"text-align: right;\">\n",
       "      <th></th>\n",
       "      <th>year</th>\n",
       "      <th>nightlight</th>\n",
       "    </tr>\n",
       "    <tr>\n",
       "      <th>country</th>\n",
       "      <th></th>\n",
       "      <th></th>\n",
       "    </tr>\n",
       "  </thead>\n",
       "  <tbody>\n",
       "    <tr>\n",
       "      <th>Pakistan</th>\n",
       "      <td>1992</td>\n",
       "      <td>4.379253</td>\n",
       "    </tr>\n",
       "    <tr>\n",
       "      <th>Pakistan</th>\n",
       "      <td>1993</td>\n",
       "      <td>4.252737</td>\n",
       "    </tr>\n",
       "    <tr>\n",
       "      <th>Pakistan</th>\n",
       "      <td>1994</td>\n",
       "      <td>4.525597</td>\n",
       "    </tr>\n",
       "    <tr>\n",
       "      <th>Pakistan</th>\n",
       "      <td>1995</td>\n",
       "      <td>4.742671</td>\n",
       "    </tr>\n",
       "    <tr>\n",
       "      <th>Pakistan</th>\n",
       "      <td>1996</td>\n",
       "      <td>4.346322</td>\n",
       "    </tr>\n",
       "    <tr>\n",
       "      <th>...</th>\n",
       "      <td>...</td>\n",
       "      <td>...</td>\n",
       "    </tr>\n",
       "    <tr>\n",
       "      <th>Bangladesh</th>\n",
       "      <td>2009</td>\n",
       "      <td>5.076833</td>\n",
       "    </tr>\n",
       "    <tr>\n",
       "      <th>Bangladesh</th>\n",
       "      <td>2010</td>\n",
       "      <td>4.824675</td>\n",
       "    </tr>\n",
       "    <tr>\n",
       "      <th>Bangladesh</th>\n",
       "      <td>2011</td>\n",
       "      <td>4.760105</td>\n",
       "    </tr>\n",
       "    <tr>\n",
       "      <th>Bangladesh</th>\n",
       "      <td>2012</td>\n",
       "      <td>5.187551</td>\n",
       "    </tr>\n",
       "    <tr>\n",
       "      <th>Bangladesh</th>\n",
       "      <td>2013</td>\n",
       "      <td>5.508717</td>\n",
       "    </tr>\n",
       "  </tbody>\n",
       "</table>\n",
       "<p>132 rows × 2 columns</p>\n",
       "</div>"
      ],
      "text/plain": [
       "            year  nightlight\n",
       "country                     \n",
       "Pakistan    1992    4.379253\n",
       "Pakistan    1993    4.252737\n",
       "Pakistan    1994    4.525597\n",
       "Pakistan    1995    4.742671\n",
       "Pakistan    1996    4.346322\n",
       "...          ...         ...\n",
       "Bangladesh  2009    5.076833\n",
       "Bangladesh  2010    4.824675\n",
       "Bangladesh  2011    4.760105\n",
       "Bangladesh  2012    5.187551\n",
       "Bangladesh  2013    5.508717\n",
       "\n",
       "[132 rows x 2 columns]"
      ]
     },
     "execution_count": 13,
     "metadata": {},
     "output_type": "execute_result"
    }
   ],
   "source": [
    "df = ps.DataFrame(data)\n",
    "df.set_index('country')"
   ]
  },
  {
   "cell_type": "code",
   "execution_count": 14,
   "id": "277275ee",
   "metadata": {
    "tags": []
   },
   "outputs": [],
   "source": [
    "df.to_csv(nightlight, index=True)"
   ]
  },
  {
   "cell_type": "code",
   "execution_count": null,
   "id": "a9e835e9",
   "metadata": {},
   "outputs": [],
   "source": []
  }
 ],
 "metadata": {
  "hide_input": false,
  "kernelspec": {
   "display_name": "Python 3 (ipykernel)",
   "language": "python",
   "name": "python3"
  },
  "language_info": {
   "codemirror_mode": {
    "name": "ipython",
    "version": 3
   },
   "file_extension": ".py",
   "mimetype": "text/x-python",
   "name": "python",
   "nbconvert_exporter": "python",
   "pygments_lexer": "ipython3",
   "version": "3.10.8"
  },
  "toc": {
   "base_numbering": 1,
   "nav_menu": {},
   "number_sections": true,
   "sideBar": true,
   "skip_h1_title": false,
   "title_cell": "Table of Contents",
   "title_sidebar": "Contents",
   "toc_cell": false,
   "toc_position": {},
   "toc_section_display": true,
   "toc_window_display": false
  }
 },
 "nbformat": 4,
 "nbformat_minor": 5
}
