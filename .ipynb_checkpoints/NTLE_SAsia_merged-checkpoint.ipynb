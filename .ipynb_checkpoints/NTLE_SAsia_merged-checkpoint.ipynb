{
 "cells": [
  {
   "cell_type": "markdown",
   "id": "c2fc8b8f",
   "metadata": {},
   "source": [
    "# South Asia GDP Prediction\n",
    "\n",
    "This jupyter notebook is developed to predict Gross Domestic Product (GDP) of several countries in the South Asian region by utilizing the nighttime light satellite data. GDP is an important economic indicator that is closely related to the economic development of a country. Therefore, accurately predicting GDP can provide valuable insights into the economic growth of a region.\n",
    "\n",
    "Nighttime light data provides a unique perspective into human activities and infrastructure, which can be used to estimate electricity consumption, economic activity, and urbanization trends. In this project, I will explore the relationship between nighttime light data and GDP to predict GDP for several countries in South Asia."
   ]
  },
  {
   "cell_type": "code",
   "execution_count": 1,
   "id": "4d553450",
   "metadata": {},
   "outputs": [],
   "source": [
    "import ee\n",
    "import geemap\n",
    "import geemap as gee\n",
    "import json\n",
    "import requests\n",
    "import os\n",
    "import shapefile\n",
    "import geopandas as gpd\n",
    "\n",
    "import numpy as np\n",
    "\n",
    "# Initialize the Earth Engine API\n",
    "ee.Initialize()"
   ]
  },
  {
   "cell_type": "markdown",
   "id": "bb5328e8",
   "metadata": {},
   "source": [
    "The `SAsia_Merged.shp` is a vector file that was created by combining the countries of Sri Lanka, India, Pakistan, Nepal, Bhutan, and Bangladesh, which are the countries interested in for predicting GDP. To filter data from Google Earth Engine (GEE), it needs to define an area of interest (AOI) that covers the regions of these countries. Instead of using the geometry of `SAsia_Merged.shp` directly, which contains a large number of nodes making it difficult for GEE to filter data efficiently, I can create a square shape that covers the AOI.\n",
    "\n",
    "To create a square shape that covers the AOI, I first calculated the maximum and minimum coordinates of x (latitudes) and y (longitudes) for the `SAsia_Merged.shp`. I then used these values to create a bounding box that defines square shape. The bounding box is a rectangular box with sides aligned with the x and y axes, created by specifying the minimum and maximum values of both the x and y dimensions. The use of a bounding box allows me to efficiently filter the data from GEE, allowing for faster processing times"
   ]
  },
  {
   "cell_type": "code",
   "execution_count": 2,
   "id": "f467d7a8-0e97-4b85-8893-50e22c2f004f",
   "metadata": {
    "tags": []
   },
   "outputs": [],
   "source": [
    "vector_file_path = r\"sAsia/SAsia_Merged.shp\"\n",
    "vector_data = gpd.read_file(vector_file_path)\n",
    "vector_bound_coordinates = vector_data.bounds\n",
    "minX, minY, maxX, maxY = vector_bound_coordinates.values[0][0], vector_bound_coordinates.values[0][1], vector_bound_coordinates.values[0][2], vector_bound_coordinates.values[0][3]\n",
    "\n",
    "for item in vector_bound_coordinates.values:\n",
    "    if minX > item[0]: minX = item[0]\n",
    "    if minY > item[1]: minY = item[1]\n",
    "    if maxX < item[2]: maxX = item[2]\n",
    "    if maxY < item[3]: maxY = item[3]\n",
    "\n",
    "area_of_interest = ee.Geometry.Rectangle([[minX-1, minY-1],[maxX+1, maxY+1]])\n"
   ]
  },
  {
   "cell_type": "markdown",
   "id": "63901166",
   "metadata": {},
   "source": [
    "To visually display and validate if the created rectangular area covers my AOI, I can create an interactive map using geemap. The map will show the blue area covered by the rectangle and the red polygons that represent the country areas obtained from the GEE feature collection USDOS/LSIB_SIMPLE/2017.\n",
    "\n",
    "The purpose of this map is to provide a visual representation of the selected rectangular area and to ensure that it encompasses the countries of Sri Lanka, India, Pakistan, Nepal, Bhutan, and Bangladesh. The red polygons represent the actual country boundaries, providing a frame of reference to ensure that our rectangular selection aligns with the desired area of interest.\n",
    "\n",
    "By using this map, I can visually confirm that the rectangular area I have selected includes the targeted countries and exclude any unwanted areas. This process helps ensure that the data we collect from GEE is accurate and relevant for my analysis."
   ]
  },
  {
   "cell_type": "code",
   "execution_count": 3,
   "id": "2658eb09-41ec-43c5-9a70-c6b4059910e4",
   "metadata": {
    "tags": []
   },
   "outputs": [
    {
     "data": {
      "application/vnd.jupyter.widget-view+json": {
       "model_id": "20a8bffc157444b69e682f102cabdc8a",
       "version_major": 2,
       "version_minor": 0
      },
      "text/plain": [
       "Map(center=[20, 0], controls=(WidgetControl(options=['position', 'transparent_bg'], widget=HBox(children=(Togg…"
      ]
     },
     "metadata": {},
     "output_type": "display_data"
    }
   ],
   "source": [
    "Map = geemap.Map(zoom=1, lite_mode=False)\n",
    "countries_interested = [\"Pakistan\", \"Nepal\", \"Sri Lanka\", \"India\", \"Bhutan\", \"Bangladesh\"]\n",
    "area_of_interest = ee.Geometry.Rectangle([[60, 37],[98, 5]])\n",
    "\n",
    "Map.addLayer(area_of_interest, {\"color\":\"blue\"}, \"Rect 1\")\n",
    "Map.center_object(area_of_interest)\n",
    "\n",
    "for country in countries_interested:\n",
    "\n",
    "    ca_geom = ee.FeatureCollection(\"USDOS/LSIB_SIMPLE/2017\").filter(ee.Filter.eq('country_na', country)).geometry()\n",
    "    Map.addLayer(ca_geom, {\"color\":\"red\"}, country)\n",
    "\n",
    "Map"
   ]
  },
  {
   "cell_type": "markdown",
   "id": "2728000e",
   "metadata": {},
   "source": [
    "GEE provides access to two night light emission image collections, which were collected by sensors mounted on two different satellites. The first collection is the `VIIRS` (Visible Infrared Imaging Radiometer Suite) satellite night light emission image collection, with data available from January 1st, 1992 to January 1st, 2014. The second collection is the `CCNL` (Climate Change Initiative Combined Nighttime Lights) satellite night light emission image collection, with data available from January 1st, 2014 to June 1st, 2022. Each collection has a different range of minimum and maximum values. This means that the night light data from the two collections cannot be directly compared without first normalizing them into a consistent range."
   ]
  },
  {
   "cell_type": "code",
   "execution_count": 4,
   "id": "188d0bc2",
   "metadata": {},
   "outputs": [],
   "source": [
    "VIIRS = ee.ImageCollection('NOAA/VIIRS/DNB/MONTHLY_V1/VCMCFG') \n",
    "CCNL = ee.ImageCollection('BNU/FGS/CCNL/v1')"
   ]
  },
  {
   "cell_type": "markdown",
   "id": "5a5ec251",
   "metadata": {},
   "source": [
    "To refine our dataset further, I have filtered the GEE night light emission image collections for each year and extracted the cloud-free coverage from VIIRS and band 1 from CCNL."
   ]
  },
  {
   "cell_type": "code",
   "execution_count": 5,
   "id": "a26369ab-eb67-4074-8a35-1ec7c57363e2",
   "metadata": {
    "tags": []
   },
   "outputs": [
    {
     "name": "stdout",
     "output_type": "stream",
     "text": [
      "Filtering...\n",
      "CCNL 1992 1993 1994 1995 1996 1997 1998 1999 2000 2001 2002 2003 2004 2005 2006 2007 2008 2009 2010 2011 2012 2013 "
     ]
    }
   ],
   "source": [
    "print(\"Filtering...\")\n",
    "\n",
    "dataset_ccnl_filtered = {}\n",
    "dataset_viirs_filtered = {}\n",
    "get_ccnl = True\n",
    "get_viirs = False\n",
    "\n",
    "if get_ccnl:\n",
    "    print(\"CCNL\", end=' ')\n",
    "    for year in range(1992,2014):\n",
    "        print(year ,end=' ')\n",
    "        ntldata = CCNL.filterBounds(area_of_interest).filter(ee.Filter.date(str(year) + '-01-01', str(year) + '-12-31'))\n",
    "        ntldata = ntldata.select('b1').mean().clip(area_of_interest)\n",
    "        dataset_ccnl_filtered[year] = ntldata\n",
    "\n",
    "if get_viirs:\n",
    "    print(\"VIIRS\", end=' ')\n",
    "    for year in range(2014, 2023):\n",
    "        print(year ,end=' ')\n",
    "        ntldata = VIIRS.filterBounds(area_of_interest).filter(ee.Filter.date(str(year) + '-01-01', str(year) + '-12-31'))\n",
    "        ntldata = ntldata.select('cf_cvg').mean().clip(area_of_interest)\n",
    "        dataset_viirs_filtered[year] = ntldata"
   ]
  },
  {
   "cell_type": "code",
   "execution_count": null,
   "id": "6c47ed4d-4852-4584-8855-a9a8b993ba6b",
   "metadata": {
    "tags": []
   },
   "outputs": [],
   "source": [
    "# For testing\n",
    "url = 'https://tiles.stadiamaps.com/tiles/alidade_smooth_dark/{z}/{x}/{y}{r}.png'\n",
    "\n",
    "Map = geemap.Map(zoom=8, lite_mode=False)\n",
    "Map.add_tile_layer(url, name='AlidadeSmoothDark', attribution='&copy; <a href=\"https://stadiamaps.com/\">Stadia Maps</a>, &copy; <a href=\"https://openmaptiles.org/\">OpenMapTiles</a> &copy; <a href=\"http://openstreetmap.org\">OpenStreetMap</a> contributors')\n",
    "attributes = {'palette': ['000004', '160b39', '400a67', '69166e', '902568', 'd94d3d', 'f1711f', 'fb9d07', 'f8cd37', 'fcffa4']}\n",
    "\n",
    "for year, data in dataset_ccnl_filtered.items():\n",
    "    Map.addLayer(data, attributes, str(year) + \" CCNL\")\n",
    "    break\n",
    "\n",
    "for year, data in dataset_viirs_filtered.items():\n",
    "    Map.addLayer(data, attributes, str(year) + \" VIIRS\")\n",
    "    break\n",
    "\n",
    "Map.center_object(area_of_interest)\n",
    "Map"
   ]
  },
  {
   "cell_type": "markdown",
   "id": "f7a3ee18",
   "metadata": {},
   "source": [
    "One way to export filtered data sets to Google Drive is by using the following code to export them as GeoTiff files:\n",
    "```python\n",
    "\n",
    "for year, data in dataset.items():\n",
    "    geemap.ee_export_image_to_drive(data, fileNamePrefix=\"nle_\" + str(year), region=area_of_interest, folder='export_nle')\n",
    "```\n",
    "\n",
    "However, exporting large GeoTiff files can be time-consuming. An alternative approach to this is to export the data sets as numpy arrays, which is a faster process."
   ]
  },
  {
   "cell_type": "code",
   "execution_count": 9,
   "id": "56f8e33c-47c4-4784-ad6b-bb4b423886db",
   "metadata": {},
   "outputs": [
    {
     "name": "stdout",
     "output_type": "stream",
     "text": [
      "1992 https://earthengine.googleapis.com/v1alpha/projects/earthengine-legacy/thumbnails/f025111a29b11a5cb9951923f301d81b-7eb1cc74c5a3b6fee0d7bf9403618e62:getPixels\n"
     ]
    },
    {
     "ename": "FileNotFoundError",
     "evalue": "[Errno 2] No such file or directory: '\\\\output\\\\Pakistan_1992.npy'",
     "output_type": "error",
     "traceback": [
      "\u001b[1;31m---------------------------------------------------------------------------\u001b[0m",
      "\u001b[1;31mFileNotFoundError\u001b[0m                         Traceback (most recent call last)",
      "Cell \u001b[1;32mIn[9], line 23\u001b[0m\n\u001b[0;32m     21\u001b[0m     response \u001b[38;5;241m=\u001b[39m requests\u001b[38;5;241m.\u001b[39mget(data\u001b[38;5;241m.\u001b[39mgetDownloadUrl(dl_para))\n\u001b[0;32m     22\u001b[0m     _output_ \u001b[38;5;241m=\u001b[39m output_folder \u001b[38;5;241m+\u001b[39m \u001b[38;5;124m\"\u001b[39m\u001b[38;5;130;01m\\\\\u001b[39;00m\u001b[38;5;124m\"\u001b[39m \u001b[38;5;241m+\u001b[39m country \u001b[38;5;241m+\u001b[39m \u001b[38;5;124m\"\u001b[39m\u001b[38;5;124m_\u001b[39m\u001b[38;5;124m\"\u001b[39m \u001b[38;5;241m+\u001b[39m \u001b[38;5;28mstr\u001b[39m(year) \u001b[38;5;241m+\u001b[39m \u001b[38;5;124m\"\u001b[39m\u001b[38;5;124m.npy\u001b[39m\u001b[38;5;124m\"\u001b[39m\n\u001b[1;32m---> 23\u001b[0m     \u001b[38;5;28;43mopen\u001b[39;49m\u001b[43m(\u001b[49m\u001b[43m_output_\u001b[49m\u001b[43m,\u001b[49m\u001b[43m \u001b[49m\u001b[38;5;124;43m\"\u001b[39;49m\u001b[38;5;124;43mwb\u001b[39;49m\u001b[38;5;124;43m\"\u001b[39;49m\u001b[43m)\u001b[49m\u001b[38;5;241m.\u001b[39mwrite(response\u001b[38;5;241m.\u001b[39mcontent)\n\u001b[0;32m     24\u001b[0m     \u001b[38;5;66;03m# break\u001b[39;00m\n\u001b[0;32m     25\u001b[0m \u001b[38;5;66;03m# break\u001b[39;00m\n",
      "File \u001b[1;32mC:\\TOOLS\\minconda_3\\envs\\gee2\\lib\\site-packages\\IPython\\core\\interactiveshell.py:282\u001b[0m, in \u001b[0;36m_modified_open\u001b[1;34m(file, *args, **kwargs)\u001b[0m\n\u001b[0;32m    275\u001b[0m \u001b[38;5;28;01mif\u001b[39;00m file \u001b[38;5;129;01min\u001b[39;00m {\u001b[38;5;241m0\u001b[39m, \u001b[38;5;241m1\u001b[39m, \u001b[38;5;241m2\u001b[39m}:\n\u001b[0;32m    276\u001b[0m     \u001b[38;5;28;01mraise\u001b[39;00m \u001b[38;5;167;01mValueError\u001b[39;00m(\n\u001b[0;32m    277\u001b[0m         \u001b[38;5;124mf\u001b[39m\u001b[38;5;124m\"\u001b[39m\u001b[38;5;124mIPython won\u001b[39m\u001b[38;5;124m'\u001b[39m\u001b[38;5;124mt let you open fd=\u001b[39m\u001b[38;5;132;01m{\u001b[39;00mfile\u001b[38;5;132;01m}\u001b[39;00m\u001b[38;5;124m by default \u001b[39m\u001b[38;5;124m\"\u001b[39m\n\u001b[0;32m    278\u001b[0m         \u001b[38;5;124m\"\u001b[39m\u001b[38;5;124mas it is likely to crash IPython. If you know what you are doing, \u001b[39m\u001b[38;5;124m\"\u001b[39m\n\u001b[0;32m    279\u001b[0m         \u001b[38;5;124m\"\u001b[39m\u001b[38;5;124myou can use builtins\u001b[39m\u001b[38;5;124m'\u001b[39m\u001b[38;5;124m open.\u001b[39m\u001b[38;5;124m\"\u001b[39m\n\u001b[0;32m    280\u001b[0m     )\n\u001b[1;32m--> 282\u001b[0m \u001b[38;5;28;01mreturn\u001b[39;00m io_open(file, \u001b[38;5;241m*\u001b[39margs, \u001b[38;5;241m*\u001b[39m\u001b[38;5;241m*\u001b[39mkwargs)\n",
      "\u001b[1;31mFileNotFoundError\u001b[0m: [Errno 2] No such file or directory: '\\\\output\\\\Pakistan_1992.npy'"
     ]
    }
   ],
   "source": [
    "Map = geemap.Map(zoom=8, lite_mode=False)\n",
    "Map.center_object(area_of_interest)\n",
    "\n",
    "output_folder = r\"output\"\n",
    "if not os.path.isdir(output_folder):\n",
    "    os.mkdir(output_folder)\n",
    "\n",
    "for country in countries_interested:\n",
    "    \n",
    "    for year, data in dataset_ccnl_filtered.items():\n",
    "        print(year, end=' ')\n",
    "        \n",
    "        data = data.clip(ca_geom)\n",
    "        Map.addLayer(data, {}, str(year) + country)\n",
    "        \n",
    "        dl_para = {\n",
    "            'bands': ['b1'],\n",
    "            'region': ca_geom,\n",
    "            'scale': 2000,\n",
    "            'format': 'NPY'\n",
    "        }\n",
    "        print(data.getDownloadUrl(dl_para))\n",
    "        response = requests.get(data.getDownloadUrl(dl_para))\n",
    "        _output_ = output_folder + \"\\\\\" + country + \"_\" + str(year) + \".npy\"\n",
    "        open(_output_, \"wb\").write(response.content)\n",
    "        # break\n",
    "    # break"
   ]
  },
  {
   "cell_type": "code",
   "execution_count": null,
   "id": "a44aac38-cdd6-43ac-b87f-14fd0d6e1191",
   "metadata": {},
   "outputs": [],
   "source": [
    "Map"
   ]
  },
  {
   "cell_type": "code",
   "execution_count": null,
   "id": "66caa2f3-7164-41f2-b4f1-7b0c19e9ea5e",
   "metadata": {},
   "outputs": [],
   "source": []
  }
 ],
 "metadata": {
  "hide_input": false,
  "kernelspec": {
   "display_name": "Python 3 (ipykernel)",
   "language": "python",
   "name": "python3"
  },
  "language_info": {
   "codemirror_mode": {
    "name": "ipython",
    "version": 3
   },
   "file_extension": ".py",
   "mimetype": "text/x-python",
   "name": "python",
   "nbconvert_exporter": "python",
   "pygments_lexer": "ipython3",
   "version": "3.10.8"
  },
  "toc": {
   "base_numbering": 1,
   "nav_menu": {},
   "number_sections": true,
   "sideBar": true,
   "skip_h1_title": false,
   "title_cell": "Table of Contents",
   "title_sidebar": "Contents",
   "toc_cell": false,
   "toc_position": {},
   "toc_section_display": true,
   "toc_window_display": false
  }
 },
 "nbformat": 4,
 "nbformat_minor": 5
}
