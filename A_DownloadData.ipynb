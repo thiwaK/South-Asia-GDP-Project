{
 "cells": [
  {
   "cell_type": "markdown",
   "id": "c2fc8b8f",
   "metadata": {},
   "source": [
    "# South Asia GDP Prediction\n",
    "\n",
    "This jupyter notebook is developed to predict Gross Domestic Product (GDP) of several countries in the South Asian region by utilizing the nighttime light satellite data. GDP is an important economic indicator that is closely related to the economic development of a country. Therefore, accurately predicting GDP can provide valuable insights into the economic growth of a region.\n",
    "\n",
    "Nighttime light data provides a unique perspective into human activities and infrastructure, which can be used to estimate electricity consumption, economic activity, and urbanization trends. In this project, I will explore the relationship between nighttime light data and GDP to predict GDP for several countries in South Asia."
   ]
  },
  {
   "cell_type": "code",
   "execution_count": 5,
   "id": "4d553450",
   "metadata": {},
   "outputs": [],
   "source": [
    "import ee\n",
    "import geemap\n",
    "import geemap as gee\n",
    "import json\n",
    "import requests\n",
    "import os\n",
    "import shapefile\n",
    "import geopandas as gpd\n",
    "\n",
    "import numpy as np\n",
    "\n",
    "# Initialize the Earth Engine API\n",
    "# ee.Authenticate()\n",
    "ee.Initialize()"
   ]
  },
  {
   "cell_type": "markdown",
   "id": "bb5328e8",
   "metadata": {},
   "source": [
    "The `SAsia_Merged.shp` is a vector file that was created by combining the countries of Sri Lanka, India, Pakistan, Nepal, Bhutan, and Bangladesh, which are the countries interested in for predicting GDP. To filter data from Google Earth Engine (GEE), it needs to define an area of interest (AOI) that covers the regions of these countries. Instead of using the geometry of `SAsia_Merged.shp` directly, which contains a large number of nodes making it difficult for GEE to filter data efficiently, I can create a square shape that covers the AOI.\n",
    "\n",
    "To create a square shape that covers the AOI, I first calculated the maximum and minimum coordinates of x (latitudes) and y (longitudes) for the `SAsia_Merged.shp`. I then used these values to create a bounding box that defines square shape. The bounding box is a rectangular box with sides aligned with the x and y axes, created by specifying the minimum and maximum values of both the x and y dimensions. The use of a bounding box allows me to efficiently filter the data from GEE, allowing for faster processing times"
   ]
  },
  {
   "cell_type": "code",
   "execution_count": 6,
   "id": "f467d7a8-0e97-4b85-8893-50e22c2f004f",
   "metadata": {
    "tags": []
   },
   "outputs": [],
   "source": [
    "vector_file_path = r\"sAsia/SAsia_Merged.shp\"\n",
    "vector_data = gpd.read_file(vector_file_path)\n",
    "vector_bound_coordinates = vector_data.bounds\n",
    "minX, minY, maxX, maxY = vector_bound_coordinates.values[0][0], vector_bound_coordinates.values[0][1], vector_bound_coordinates.values[0][2], vector_bound_coordinates.values[0][3]\n",
    "\n",
    "for item in vector_bound_coordinates.values:\n",
    "    if minX > item[0]: minX = item[0]\n",
    "    if minY > item[1]: minY = item[1]\n",
    "    if maxX < item[2]: maxX = item[2]\n",
    "    if maxY < item[3]: maxY = item[3]\n",
    "\n",
    "area_of_interest = ee.Geometry.Rectangle([[minX-1, minY-1],[maxX+1, maxY+1]])\n"
   ]
  },
  {
   "cell_type": "markdown",
   "id": "63901166",
   "metadata": {},
   "source": [
    "To visually display and validate if the created rectangular area covers my AOI, I can create an interactive map using geemap. The map will show the blue area covered by the rectangle and the red polygons that represent the country areas obtained from the GEE feature collection USDOS/LSIB_SIMPLE/2017.\n",
    "\n",
    "The purpose of this map is to provide a visual representation of the selected rectangular area and to ensure that it encompasses the countries of Sri Lanka, India, Pakistan, Nepal, Bhutan, and Bangladesh. The red polygons represent the actual country boundaries, providing a frame of reference to ensure that our rectangular selection aligns with the desired area of interest.\n",
    "\n",
    "By using this map, I can visually confirm that the rectangular area I have selected includes the targeted countries and exclude any unwanted areas. This process helps ensure that the data we collect from GEE is accurate and relevant for my analysis."
   ]
  },
  {
   "cell_type": "code",
   "execution_count": 7,
   "id": "2658eb09-41ec-43c5-9a70-c6b4059910e4",
   "metadata": {
    "tags": []
   },
   "outputs": [
    {
     "data": {
      "application/vnd.jupyter.widget-view+json": {
       "model_id": "00c6ece0880345ea8f80d29ef9bed6da",
       "version_major": 2,
       "version_minor": 0
      },
      "text/plain": [
       "Map(center=[20, 0], controls=(WidgetControl(options=['position', 'transparent_bg'], widget=HBox(children=(Togg…"
      ]
     },
     "execution_count": 7,
     "metadata": {},
     "output_type": "execute_result"
    }
   ],
   "source": [
    "Map = geemap.Map(zoom=1, lite_mode=False)\n",
    "countries_interested = [\"Pakistan\", \"Nepal\", \"Sri Lanka\", \"India\", \"Bhutan\", \"Bangladesh\"]\n",
    "area_of_interest = ee.Geometry.Rectangle([[60, 37],[98, 5]])\n",
    "\n",
    "Map.addLayer(area_of_interest, {\"color\":\"blue\"}, \"Rect 1\")\n",
    "Map.center_object(area_of_interest)\n",
    "\n",
    "for country in countries_interested:\n",
    "\n",
    "    ca_geom = ee.FeatureCollection(\"USDOS/LSIB_SIMPLE/2017\").filter(ee.Filter.eq('country_na', country)).geometry()\n",
    "    Map.addLayer(ca_geom, {\"color\":\"red\"}, country)\n",
    "\n",
    "Map"
   ]
  },
  {
   "cell_type": "markdown",
   "id": "2728000e",
   "metadata": {},
   "source": [
    "GEE provides access to two night light emission image collections, which were collected by sensors mounted on two different satellites. The first collection is the `VIIRS` (Visible Infrared Imaging Radiometer Suite) satellite night light emission image collection, with data available from January 1st, 1992 to January 1st, 2014. The second collection is the `CCNL` (Climate Change Initiative Combined Nighttime Lights) satellite night light emission image collection, with data available from January 1st, 2014 to June 1st, 2022. Each collection has a different range of minimum and maximum values. This means that the night light data from the two collections cannot be directly compared without first normalizing them into a consistent range."
   ]
  },
  {
   "cell_type": "code",
   "execution_count": 8,
   "id": "188d0bc2",
   "metadata": {},
   "outputs": [],
   "source": [
    "VIIRS = ee.ImageCollection('NOAA/VIIRS/DNB/MONTHLY_V1/VCMCFG') \n",
    "CCNL = ee.ImageCollection('BNU/FGS/CCNL/v1')"
   ]
  },
  {
   "cell_type": "markdown",
   "id": "5a5ec251",
   "metadata": {},
   "source": [
    "To refine our dataset further, I have filtered the GEE night light emission image collections for each year and extracted the cloud-free coverage from VIIRS and band 1 from CCNL."
   ]
  },
  {
   "cell_type": "code",
   "execution_count": 9,
   "id": "a26369ab-eb67-4074-8a35-1ec7c57363e2",
   "metadata": {
    "tags": []
   },
   "outputs": [
    {
     "name": "stdout",
     "output_type": "stream",
     "text": [
      "Filtering...\n",
      "CCNL 1992 1993 1994 1995 1996 1997 1998 1999 2000 2001 2002 2003 2004 2005 2006 2007 2008 2009 2010 2011 2012 2013 "
     ]
    }
   ],
   "source": [
    "print(\"Filtering...\")\n",
    "\n",
    "dataset_ccnl_filtered = {}\n",
    "dataset_viirs_filtered = {}\n",
    "get_ccnl = True\n",
    "get_viirs = False\n",
    "\n",
    "if get_ccnl:\n",
    "    print(\"CCNL\", end=' ')\n",
    "    for year in range(1992,2014):\n",
    "        print(year ,end=' ')\n",
    "        ntldata = CCNL.filterBounds(area_of_interest).filter(ee.Filter.date(str(year) + '-01-01', str(year) + '-12-31'))\n",
    "        ntldata = ntldata.select('b1').mean().clip(area_of_interest)\n",
    "        dataset_ccnl_filtered[year] = ntldata\n",
    "\n",
    "if get_viirs:\n",
    "    print(\"VIIRS\", end=' ')\n",
    "    for year in range(2014, 2023):\n",
    "        print(year ,end=' ')\n",
    "        ntldata = VIIRS.filterBounds(area_of_interest).filter(ee.Filter.date(str(year) + '-01-01', str(year) + '-12-31'))\n",
    "        ntldata = ntldata.select('cf_cvg').mean().clip(area_of_interest)\n",
    "        dataset_viirs_filtered[year] = ntldata"
   ]
  },
  {
   "cell_type": "code",
   "execution_count": 10,
   "id": "6c47ed4d-4852-4584-8855-a9a8b993ba6b",
   "metadata": {
    "tags": []
   },
   "outputs": [
    {
     "data": {
      "application/vnd.jupyter.widget-view+json": {
       "model_id": "0a4541f04a744a65af8da20e7aa76164",
       "version_major": 2,
       "version_minor": 0
      },
      "text/plain": [
       "Map(center=[20, 0], controls=(WidgetControl(options=['position', 'transparent_bg'], widget=HBox(children=(Togg…"
      ]
     },
     "execution_count": 10,
     "metadata": {},
     "output_type": "execute_result"
    }
   ],
   "source": [
    "# For testing\n",
    "url = 'https://tiles.stadiamaps.com/tiles/alidade_smooth_dark/{z}/{x}/{y}{r}.png'\n",
    "\n",
    "Map = geemap.Map(zoom=8, lite_mode=False)\n",
    "Map.add_tile_layer(url, name='AlidadeSmoothDark', attribution='&copy; <a href=\"https://stadiamaps.com/\">Stadia Maps</a>, &copy; <a href=\"https://openmaptiles.org/\">OpenMapTiles</a> &copy; <a href=\"http://openstreetmap.org\">OpenStreetMap</a> contributors')\n",
    "attributes = {'palette': ['000004', '160b39', '400a67', '69166e', '902568', 'd94d3d', 'f1711f', 'fb9d07', 'f8cd37', 'fcffa4']}\n",
    "\n",
    "for year, data in dataset_ccnl_filtered.items():\n",
    "    Map.addLayer(data, attributes, str(year) + \" CCNL\")\n",
    "    break\n",
    "\n",
    "for year, data in dataset_viirs_filtered.items():\n",
    "    Map.addLayer(data, attributes, str(year) + \" VIIRS\")\n",
    "    break\n",
    "\n",
    "Map.center_object(area_of_interest)\n",
    "Map"
   ]
  },
  {
   "cell_type": "markdown",
   "id": "f7a3ee18",
   "metadata": {},
   "source": [
    "One way to export filtered data sets to Google Drive is by using the following code to export them as GeoTiff files:\n",
    "```python\n",
    "\n",
    "for year, data in dataset.items():\n",
    "    geemap.ee_export_image_to_drive(data, fileNamePrefix=\"nle_\" + str(year), region=area_of_interest, folder='export_nle')\n",
    "```\n",
    "\n",
    "However, exporting large GeoTiff files can be time-consuming. An alternative approach to this is to export the data sets as numpy arrays, which is a faster process."
   ]
  },
  {
   "cell_type": "code",
   "execution_count": 12,
   "id": "56f8e33c-47c4-4784-ad6b-bb4b423886db",
   "metadata": {},
   "outputs": [
    {
     "name": "stdout",
     "output_type": "stream",
     "text": [
      "Pakistan\n",
      "1992 https://earthengine.googleapis.com/v1alpha/projects/earthengine-legacy/thumbnails/b5779e383f60848fd10078fa095f747a-3ccc80789685352f335fd50f04e86b3a:getPixels\n",
      "1993 https://earthengine.googleapis.com/v1alpha/projects/earthengine-legacy/thumbnails/e17caf510640053ec5e39e7fb22e78a6-91d8660fda97ea58bafaa8db4085f3b5:getPixels\n",
      "1994 https://earthengine.googleapis.com/v1alpha/projects/earthengine-legacy/thumbnails/a25c9ba178f0cf1f04d0cbaaf6daaedf-b6b9289ae1a84f33d3556cb17a0d0c55:getPixels\n",
      "1995 https://earthengine.googleapis.com/v1alpha/projects/earthengine-legacy/thumbnails/12c93f11113756a45aa803958fee1e3f-63e7435d6dfab7d7edc0cf7bfa18f130:getPixels\n",
      "1996 https://earthengine.googleapis.com/v1alpha/projects/earthengine-legacy/thumbnails/b079bd5e7614b8879f57b2ecab55ada4-ae4c194efbf645e97f3496eb196c6297:getPixels\n",
      "1997 https://earthengine.googleapis.com/v1alpha/projects/earthengine-legacy/thumbnails/f6154aed147db7551e60e6a2134ad06a-738f147c252caf1c5b1bb56e907b6f54:getPixels\n",
      "1998 https://earthengine.googleapis.com/v1alpha/projects/earthengine-legacy/thumbnails/185f677c120d20547625f99e4499b3cd-68d7e2628492faafa1b275a7b2699295:getPixels\n",
      "1999 https://earthengine.googleapis.com/v1alpha/projects/earthengine-legacy/thumbnails/9289fefc96855574d20cdb286eebc657-2cf394da12325f8df1b46b778b09cdcf:getPixels\n",
      "2000 https://earthengine.googleapis.com/v1alpha/projects/earthengine-legacy/thumbnails/56da56af39ba41e6d7d2839d9d64f730-4ef7e5935d9a196afbe8951ab946e492:getPixels\n",
      "2001 https://earthengine.googleapis.com/v1alpha/projects/earthengine-legacy/thumbnails/e1fec8358bf9d3af63b05240ffabc38f-3a5d381da3655a6b188a9fbb796a3058:getPixels\n",
      "2002 https://earthengine.googleapis.com/v1alpha/projects/earthengine-legacy/thumbnails/4fd7223abcd7122bd5c707ff46df33d1-5eda714efa825078c66a90d819625be3:getPixels\n",
      "2003 https://earthengine.googleapis.com/v1alpha/projects/earthengine-legacy/thumbnails/811140d5ff86a41174b4bb3e47e22d4d-a07b88f958ed1609eb0d52ae451583e8:getPixels\n",
      "2004 https://earthengine.googleapis.com/v1alpha/projects/earthengine-legacy/thumbnails/d4592c3d89f12164522cded7a2b83d7b-6849b584028ff318faa706024fc5dd77:getPixels\n",
      "2005 https://earthengine.googleapis.com/v1alpha/projects/earthengine-legacy/thumbnails/162b840cd588f7e7713c21e526eac702-f3e702d6f89b6a49be820b8cc0aeb0aa:getPixels\n",
      "2006 https://earthengine.googleapis.com/v1alpha/projects/earthengine-legacy/thumbnails/c3015e1c096245d29d3bf56c0c218405-e626d8f9ca345166be7550d00c6c0574:getPixels\n",
      "2007 https://earthengine.googleapis.com/v1alpha/projects/earthengine-legacy/thumbnails/fe954ab41a4d90c9d5c3b00baed6c27a-f854631ea904299d500c97ccd7347461:getPixels\n",
      "2008 https://earthengine.googleapis.com/v1alpha/projects/earthengine-legacy/thumbnails/11ab4f0505af2e07a9ae83d651728e78-1d9609249747e22b1955c04bb9ee68cf:getPixels\n",
      "2009 https://earthengine.googleapis.com/v1alpha/projects/earthengine-legacy/thumbnails/ec3907b20998636e9bc5d1a9676c0ba8-7cfe1fa3bdfec4f8da4142463b5ab3b0:getPixels\n",
      "2010 https://earthengine.googleapis.com/v1alpha/projects/earthengine-legacy/thumbnails/e101723550746b826e99c0e397e7e008-339088c7610c282646e5b3df6f8d0ebb:getPixels\n",
      "2011 https://earthengine.googleapis.com/v1alpha/projects/earthengine-legacy/thumbnails/387d564fdd52ce8c89ae972b231bb755-02171fd7bac432b424ea86a3dbfd3e44:getPixels\n",
      "2012 https://earthengine.googleapis.com/v1alpha/projects/earthengine-legacy/thumbnails/7112f35e7aba589468bc86054092da77-901578c080185a72c5f01dd6d4140d5f:getPixels\n",
      "2013 https://earthengine.googleapis.com/v1alpha/projects/earthengine-legacy/thumbnails/c421adc29945146fbd6d406d22aae8ac-600f6552b4510d2c2f131dda670b5d0a:getPixels\n",
      "Nepal\n",
      "1992 https://earthengine.googleapis.com/v1alpha/projects/earthengine-legacy/thumbnails/f82a486ec637076d559459fc4032f989-ec2ace6909185f14eef15c532679f2d7:getPixels\n",
      "1993 https://earthengine.googleapis.com/v1alpha/projects/earthengine-legacy/thumbnails/bc4700cd4611b180d3eb173fbd8086a3-6a6c882e3bf109dc98e919c0bc612768:getPixels\n",
      "1994 https://earthengine.googleapis.com/v1alpha/projects/earthengine-legacy/thumbnails/3789cb70d2e616443da8744275d184df-497251dc6ab875d3627764dc576ec7ab:getPixels\n",
      "1995 https://earthengine.googleapis.com/v1alpha/projects/earthengine-legacy/thumbnails/fa404d174b3311af55039b38ae2a5685-6b3734fdb65fdbf70b692cf29a3b7e45:getPixels\n",
      "1996 https://earthengine.googleapis.com/v1alpha/projects/earthengine-legacy/thumbnails/3f44fb3ba6c82a4b8d5e517b2efb8f6f-8072c3076eef7a18b541ef5c729f553c:getPixels\n",
      "1997 https://earthengine.googleapis.com/v1alpha/projects/earthengine-legacy/thumbnails/53dec3a9e5ca976a7a92859a945bd7ee-70385331b226a4c0bc6ac8d4ac6ad1ed:getPixels\n",
      "1998 https://earthengine.googleapis.com/v1alpha/projects/earthengine-legacy/thumbnails/6864153bc87b2fd301a27e460cdfc4df-65220928f173e95ac3b1421931f650a2:getPixels\n",
      "1999 https://earthengine.googleapis.com/v1alpha/projects/earthengine-legacy/thumbnails/81e3cea0e6f36e4c28fa63ff468f4fd8-9f7dc69afed2f8602f204af8fe82bd96:getPixels\n",
      "2000 https://earthengine.googleapis.com/v1alpha/projects/earthengine-legacy/thumbnails/c250104803efadfc31e1d97185694d79-1cf68feb408b5cacd004e087a6ab47df:getPixels\n",
      "2001 https://earthengine.googleapis.com/v1alpha/projects/earthengine-legacy/thumbnails/43e9e6d8d9f98dac1ca1832bd0aa9481-55ba187c1d1e7aa439a90c1d62578e27:getPixels\n",
      "2002 https://earthengine.googleapis.com/v1alpha/projects/earthengine-legacy/thumbnails/3cd3b52a88d97a755d3c41c0d9a2fc5f-4972e945159303c883064796bec1352b:getPixels\n",
      "2003 https://earthengine.googleapis.com/v1alpha/projects/earthengine-legacy/thumbnails/e006fc43097f042a761498e5dd29a525-0d01192c60265c9dd747f5904f2bd21e:getPixels\n",
      "2004 https://earthengine.googleapis.com/v1alpha/projects/earthengine-legacy/thumbnails/8f5d5a13fb668d1372f6d832b6d77fb5-1a2432253de7e726803b7459e636fab6:getPixels\n",
      "2005 https://earthengine.googleapis.com/v1alpha/projects/earthengine-legacy/thumbnails/a643f8852ae7f5dfb2eb6184b53ecc87-b2f6065ac57c38b5f7b2a516e5f7fbf3:getPixels\n",
      "2006 https://earthengine.googleapis.com/v1alpha/projects/earthengine-legacy/thumbnails/359ad1082c66bef145625a452f55b84c-5773bd6d0bc7dca3f1632c1f4c2a95a2:getPixels\n",
      "2007 https://earthengine.googleapis.com/v1alpha/projects/earthengine-legacy/thumbnails/aa811ed0a264012b5c87a936bd28e55e-fd2ec3308d3a8635784a3fe187ff2155:getPixels\n",
      "2008 https://earthengine.googleapis.com/v1alpha/projects/earthengine-legacy/thumbnails/6f23f14522ee0eff6936defa9496e856-7af83bbc13c38ac079b3f4ef078d549d:getPixels\n",
      "2009 https://earthengine.googleapis.com/v1alpha/projects/earthengine-legacy/thumbnails/114f2f7f31c13d4ad43dcfb0e86cbfe2-245bb072d60c2c28753d37db7a9d4849:getPixels\n",
      "2010 https://earthengine.googleapis.com/v1alpha/projects/earthengine-legacy/thumbnails/91156ddd93f4ff53514cbf867e859290-6dcea8e4842ad4fa87f4b39e1eb4fb14:getPixels\n",
      "2011 https://earthengine.googleapis.com/v1alpha/projects/earthengine-legacy/thumbnails/d0001c9a6a331cb191655be9cab5f782-f3ca6c6f79e8c48652d2bb77aec10956:getPixels\n",
      "2012 https://earthengine.googleapis.com/v1alpha/projects/earthengine-legacy/thumbnails/e508c858103c89974990f42b94886908-8731e4bed37a4d18caef783bcafe9f85:getPixels\n",
      "2013 https://earthengine.googleapis.com/v1alpha/projects/earthengine-legacy/thumbnails/c573f47ff04d9341e7e659437cba48a7-e376b3d6ce25d86c164ab81a1f5a3457:getPixels\n",
      "Sri Lanka\n",
      "1992 https://earthengine.googleapis.com/v1alpha/projects/earthengine-legacy/thumbnails/c2bb4dd2094964d7991bee5f67cf1c95-9a07a6db453d855b06d9d2deef121865:getPixels\n",
      "1993 https://earthengine.googleapis.com/v1alpha/projects/earthengine-legacy/thumbnails/a79da25c1023b3f48c6ef4ea94bbde9a-56f63f53ac7293177809a052fd00ff55:getPixels\n",
      "1994 https://earthengine.googleapis.com/v1alpha/projects/earthengine-legacy/thumbnails/d10357840191951db38a67a543ba8d2f-33df42fde17adb5c0010c81aea5a255f:getPixels\n",
      "1995 https://earthengine.googleapis.com/v1alpha/projects/earthengine-legacy/thumbnails/1df9bc0d27d3e54c42e3f9aa1ae4957e-50a30d1001e17e5f8443f91cd6563253:getPixels\n",
      "1996 https://earthengine.googleapis.com/v1alpha/projects/earthengine-legacy/thumbnails/8c18a9cce2466767e772beb9890bbbe9-b84c85cc6effcba81c2c9d9e71540b8f:getPixels\n",
      "1997 https://earthengine.googleapis.com/v1alpha/projects/earthengine-legacy/thumbnails/5ca0887af09a6d801b62c639f3713ba9-ab7fac1f0bbb5cb74cc80082069f75f8:getPixels\n",
      "1998 https://earthengine.googleapis.com/v1alpha/projects/earthengine-legacy/thumbnails/989a2d9d454b1acf295e26eade1a9146-1c142196ae0ecd42bdf7d8a8ec69b451:getPixels\n",
      "1999 https://earthengine.googleapis.com/v1alpha/projects/earthengine-legacy/thumbnails/a5987ef3d392f984b309d47b05432642-19bdf539045e74d4572d06959ba84d7b:getPixels\n",
      "2000 https://earthengine.googleapis.com/v1alpha/projects/earthengine-legacy/thumbnails/1a76bff0e65b63461dafeee36918e3fa-414d18964f520a5b1bbdfb23184feebd:getPixels\n",
      "2001 https://earthengine.googleapis.com/v1alpha/projects/earthengine-legacy/thumbnails/aebf917ea9d3ccc78ab0b1663e8faf36-8120382f7e82b29fcbac274f5a67b594:getPixels\n",
      "2002 https://earthengine.googleapis.com/v1alpha/projects/earthengine-legacy/thumbnails/58aa4d7e3dc4a5285d93ecb2ee1fca4a-934eed0e622878508af7a76eab16babc:getPixels\n",
      "2003 https://earthengine.googleapis.com/v1alpha/projects/earthengine-legacy/thumbnails/b4b2ef2cd40b60dfbf899b70002afbcf-a51e4763af724a95247ffd9bb44898ca:getPixels\n",
      "2004 https://earthengine.googleapis.com/v1alpha/projects/earthengine-legacy/thumbnails/412c0922eaa0246c90c87fcf26875227-55a276dda1ecf17dffc94856a3e60c51:getPixels\n",
      "2005 https://earthengine.googleapis.com/v1alpha/projects/earthengine-legacy/thumbnails/c66ae541a984f70ae251a9055414af6f-e5259c78198a0270ae6209713e34e34e:getPixels\n",
      "2006 https://earthengine.googleapis.com/v1alpha/projects/earthengine-legacy/thumbnails/5d9b389c66a69ced4401581ae86698d5-0efa7b8c9a7af935d0c1418d13397161:getPixels\n",
      "2007 https://earthengine.googleapis.com/v1alpha/projects/earthengine-legacy/thumbnails/246d9ea189581dac307b537406f77e93-f272cb499a9928090c3c87f740c59073:getPixels\n",
      "2008 https://earthengine.googleapis.com/v1alpha/projects/earthengine-legacy/thumbnails/575ab9ef2a3a4c78d41059d251f40176-be7f4146b828f0ea11ec1bca806a9603:getPixels\n",
      "2009 https://earthengine.googleapis.com/v1alpha/projects/earthengine-legacy/thumbnails/5842d298b0908789efab2a8f16c20fda-60361c9eded6b80155189d12c8f055ed:getPixels\n",
      "2010 https://earthengine.googleapis.com/v1alpha/projects/earthengine-legacy/thumbnails/da9937687d800b365e5417362745fadb-e2397ad8d67215833409c019d24c89c1:getPixels\n",
      "2011 https://earthengine.googleapis.com/v1alpha/projects/earthengine-legacy/thumbnails/a3dca61c4212e7c7d60f996b6e3ffd85-cb42e575ca29b44b16064376aa0df44a:getPixels\n",
      "2012 https://earthengine.googleapis.com/v1alpha/projects/earthengine-legacy/thumbnails/788533b8d36e0d1a3bc9e90129718214-1b6c84667bc2001b3d2d22d7892cb2e8:getPixels\n",
      "2013 https://earthengine.googleapis.com/v1alpha/projects/earthengine-legacy/thumbnails/72365c0639ea817356ce4a615ce1a23a-588e1e374260ff6b99f2d293e0a0c0d0:getPixels\n",
      "India\n",
      "1992 https://earthengine.googleapis.com/v1alpha/projects/earthengine-legacy/thumbnails/085fb2685df58010e88c931a60677b84-2f5f8bd919f6d208ca915ef0d58389ba:getPixels\n",
      "1993 https://earthengine.googleapis.com/v1alpha/projects/earthengine-legacy/thumbnails/f6d66b0e03ee73c003f79b02cbe30c55-381f8b1b136edbe3dc28ac6c13c7f585:getPixels\n",
      "1994 https://earthengine.googleapis.com/v1alpha/projects/earthengine-legacy/thumbnails/1d4c09d3dd777c87dd6f3056ae814378-28cbe847cbf05b85f27a89e77546dc77:getPixels\n",
      "1995 https://earthengine.googleapis.com/v1alpha/projects/earthengine-legacy/thumbnails/a9f403a72ef12d9821f14a0732db9a61-c16dabaea2769c60ca86fad324432e31:getPixels\n",
      "1996 https://earthengine.googleapis.com/v1alpha/projects/earthengine-legacy/thumbnails/97cd66a59fbdbfc3a81ffe4eb8d010be-c08011f53e38c86203c4d6a84dfd2da0:getPixels\n",
      "1997 https://earthengine.googleapis.com/v1alpha/projects/earthengine-legacy/thumbnails/336dcfcafd3e3a4050489d7c3f2e490d-3014d65371b65832c4a25fea1dc37794:getPixels\n",
      "1998 https://earthengine.googleapis.com/v1alpha/projects/earthengine-legacy/thumbnails/92149d856c4244db9d80bdb5aed96fbf-38b65dc1ae27d02de180e5d4e8675c98:getPixels\n",
      "1999 https://earthengine.googleapis.com/v1alpha/projects/earthengine-legacy/thumbnails/e348a30b7d74a0e9540fd22c89c51cd9-116c02ee3b549e90e3940ca402597d1f:getPixels\n",
      "2000 https://earthengine.googleapis.com/v1alpha/projects/earthengine-legacy/thumbnails/845c726ae2bfcd27a34bad6aae34ae7c-c4054429f5885649b09e063f6599750e:getPixels\n",
      "2001 https://earthengine.googleapis.com/v1alpha/projects/earthengine-legacy/thumbnails/a9e5efc48ceec5e2b79118cb81fcb5a0-f00347eb80b986d631d004f8be3fa0a1:getPixels\n",
      "2002 https://earthengine.googleapis.com/v1alpha/projects/earthengine-legacy/thumbnails/2b5dc175783a51baba9cfc00ff7e8a4d-6234e38b7b30ce454a916c92934ebbf4:getPixels\n",
      "2003 https://earthengine.googleapis.com/v1alpha/projects/earthengine-legacy/thumbnails/2ffadc5fab39e53455de039147c93e69-9999f3176edcd271ed3098a9839be952:getPixels\n",
      "2004 https://earthengine.googleapis.com/v1alpha/projects/earthengine-legacy/thumbnails/c94bb343a7b0fc6dbcec1d6a020ce256-f0390e6b4b47f29470249748a51b8200:getPixels\n",
      "2005 https://earthengine.googleapis.com/v1alpha/projects/earthengine-legacy/thumbnails/3ab170fc474950380b4deafd458144c7-d3b337f711cb04a3a247cb03ea0301fc:getPixels\n",
      "2006 https://earthengine.googleapis.com/v1alpha/projects/earthengine-legacy/thumbnails/6274e8b9209784c166dee4be7f3bee06-6396a7eca80ef411105dce6796351ab0:getPixels\n",
      "2007 https://earthengine.googleapis.com/v1alpha/projects/earthengine-legacy/thumbnails/5a166bdc2627a9feb5b11ba057553323-5832244434461c1fb21a11d8e0e6690e:getPixels\n",
      "2008 https://earthengine.googleapis.com/v1alpha/projects/earthengine-legacy/thumbnails/4bae04cc8f0d167b471da0d9014649e0-dfdfa393ed478dddfd346d2c5a7c1f15:getPixels\n",
      "2009 https://earthengine.googleapis.com/v1alpha/projects/earthengine-legacy/thumbnails/fc7f54efd95ef68b275eb405530b9c3a-5c667785e3d78511047fa137ed62aa33:getPixels\n",
      "2010 https://earthengine.googleapis.com/v1alpha/projects/earthengine-legacy/thumbnails/6031e25b7ce48f58bdcce0dbf4a463b7-06f856fbb7ba2a45037ab592ce794212:getPixels\n",
      "2011 https://earthengine.googleapis.com/v1alpha/projects/earthengine-legacy/thumbnails/9d17685fa32983fcc66e48373b7331f5-a4f90285ed468575117fb38da7a2e647:getPixels\n",
      "2012 https://earthengine.googleapis.com/v1alpha/projects/earthengine-legacy/thumbnails/b6e8bec6bca964cb10de54892ab66aff-f71a3d07093121b4cb4685fda22c04ef:getPixels\n",
      "2013 https://earthengine.googleapis.com/v1alpha/projects/earthengine-legacy/thumbnails/08fa7dcc206876fbbc63fe23e19ea922-628da88f63d88a4873d32080abd8c18b:getPixels\n",
      "Bhutan\n",
      "1992 https://earthengine.googleapis.com/v1alpha/projects/earthengine-legacy/thumbnails/456767dcb2a756f442de4195f1fccceb-6dc76832e8a8172ab379fce549c40c79:getPixels\n",
      "1993 https://earthengine.googleapis.com/v1alpha/projects/earthengine-legacy/thumbnails/1eb323b0cd316c2fafee3c8b603fca67-a54b3bacf828dc96ef19bbf469043ca9:getPixels\n",
      "1994 https://earthengine.googleapis.com/v1alpha/projects/earthengine-legacy/thumbnails/98c8c0fce5c8d61625254972b1ecc270-0f43ba40b48c923c533116521d284864:getPixels\n",
      "1995 https://earthengine.googleapis.com/v1alpha/projects/earthengine-legacy/thumbnails/9866e5fb8164964499b2f353382f2c60-25c0f8649a71d4b7099ef7518380da9c:getPixels\n",
      "1996 https://earthengine.googleapis.com/v1alpha/projects/earthengine-legacy/thumbnails/569b0de10c3a39639e1f6cd99edc36ad-b3a786a2bc1ca54cb855f2b0d5ccd4cb:getPixels\n",
      "1997 https://earthengine.googleapis.com/v1alpha/projects/earthengine-legacy/thumbnails/e37826fa10c2908d0cbb8230068f2273-c95ce6db6e7723900acd87a13d0ac5f8:getPixels\n",
      "1998 https://earthengine.googleapis.com/v1alpha/projects/earthengine-legacy/thumbnails/f3fd089e3b0ab52dbb115e6535317e3b-1a8fcd09a33d613a3952205fe7af4d44:getPixels\n",
      "1999 https://earthengine.googleapis.com/v1alpha/projects/earthengine-legacy/thumbnails/93109d2d30ca494b839ca2ead4a4a7a7-aa8aff83104d2a6caf11d6ef51fedc85:getPixels\n",
      "2000 https://earthengine.googleapis.com/v1alpha/projects/earthengine-legacy/thumbnails/032c020aea9500fad52f941389c00104-2adfdabca14bcabd669261804ff46bac:getPixels\n",
      "2001 https://earthengine.googleapis.com/v1alpha/projects/earthengine-legacy/thumbnails/4d6bf51293764d1661d83896408a1244-951404d565373abf425f5513ac9d53af:getPixels\n",
      "2002 https://earthengine.googleapis.com/v1alpha/projects/earthengine-legacy/thumbnails/69976ef4608cae19dae4f6dc245dbce2-0ece49c5bf9d5ae9bf96b472823db701:getPixels\n",
      "2003 https://earthengine.googleapis.com/v1alpha/projects/earthengine-legacy/thumbnails/e131857fa91e961d3983f904c7b6f0be-4b4b8c6fcc76ebdac5e30d2b34e7317a:getPixels\n",
      "2004 https://earthengine.googleapis.com/v1alpha/projects/earthengine-legacy/thumbnails/2390d12f29d950419190e24bc4ccdb01-55ab7bb0cea4e09bbbe045dc5974be74:getPixels\n",
      "2005 https://earthengine.googleapis.com/v1alpha/projects/earthengine-legacy/thumbnails/ea1b7bc74ed7be6e8e44842a9317dd63-e4ea39ccdab35328dda504946eca52fb:getPixels\n",
      "2006 https://earthengine.googleapis.com/v1alpha/projects/earthengine-legacy/thumbnails/2b7233b821343fef4b0eefad045469ee-e02d61e8f7c429742993810b21168b54:getPixels\n",
      "2007 https://earthengine.googleapis.com/v1alpha/projects/earthengine-legacy/thumbnails/df8b6796daf6313a2282b7fa902c87ad-a7d9821ace961a12079152b733f13964:getPixels\n",
      "2008 https://earthengine.googleapis.com/v1alpha/projects/earthengine-legacy/thumbnails/4ecf92e7d265c4677657cf79d5706290-76f023c11d412f33ddbe1c7a1e17c6d7:getPixels\n",
      "2009 https://earthengine.googleapis.com/v1alpha/projects/earthengine-legacy/thumbnails/a0174ff833c93eb7a78f34a5f3a800e9-3e25c453074c78c6761ba1f7aea6cf61:getPixels\n",
      "2010 https://earthengine.googleapis.com/v1alpha/projects/earthengine-legacy/thumbnails/3af434b8dc4a5d83501f0fb804e1bb6c-2a5f0c92ee212d303c8f820136044103:getPixels\n",
      "2011 https://earthengine.googleapis.com/v1alpha/projects/earthengine-legacy/thumbnails/865c88eb0b2e53d20888c1f05917a87c-a220822f9669870f25b303fb8754e3e1:getPixels\n",
      "2012 https://earthengine.googleapis.com/v1alpha/projects/earthengine-legacy/thumbnails/a46a6c4744cdbede51f5c0c37917a685-9551f3a89540d573482c0d4bb55f3b2f:getPixels\n",
      "2013 https://earthengine.googleapis.com/v1alpha/projects/earthengine-legacy/thumbnails/8c5f31e4def3c90f63b6281940a01a71-4252d3e9f8266cca7c606a54a330068a:getPixels\n",
      "Bangladesh\n",
      "1992 https://earthengine.googleapis.com/v1alpha/projects/earthengine-legacy/thumbnails/f025111a29b11a5cb9951923f301d81b-fbe5078a6415c6953f4f900f48966368:getPixels\n",
      "1993 https://earthengine.googleapis.com/v1alpha/projects/earthengine-legacy/thumbnails/8c1fa07b4c522ed1cf147a8284a9c7a7-34d58d38ce5cabf2c6866036eac1849c:getPixels\n",
      "1994 https://earthengine.googleapis.com/v1alpha/projects/earthengine-legacy/thumbnails/badbd3edd713b36c837137e867ec9660-b023533aa6a699692b414c371ad6b84f:getPixels\n",
      "1995 https://earthengine.googleapis.com/v1alpha/projects/earthengine-legacy/thumbnails/a0374d14f6fb0924679a05e96eacb368-e4b80efdb8d50a205fa6735909e8e971:getPixels\n",
      "1996 https://earthengine.googleapis.com/v1alpha/projects/earthengine-legacy/thumbnails/07fb0101e441dba5c2fc44676059b95d-33bcbe8c02afd186fdb5361155c8debf:getPixels\n",
      "1997 https://earthengine.googleapis.com/v1alpha/projects/earthengine-legacy/thumbnails/e19847fccd293baa0f94961ad822b77b-0932e56d6fa749678f285203f8f99286:getPixels\n",
      "1998 https://earthengine.googleapis.com/v1alpha/projects/earthengine-legacy/thumbnails/2ae50c6a92cc552650c030f493956f9e-1c36904337e700d762960d7f0406bdea:getPixels\n",
      "1999 https://earthengine.googleapis.com/v1alpha/projects/earthengine-legacy/thumbnails/decf7a354293495d5a84b299e0deaadf-169d4b19117ed631af1e8bf1115fd64f:getPixels\n",
      "2000 https://earthengine.googleapis.com/v1alpha/projects/earthengine-legacy/thumbnails/169175bd924e2101c5f0153e1cd3f810-ccea4afa66188fd6d4e3f38d89ca1d37:getPixels\n",
      "2001 https://earthengine.googleapis.com/v1alpha/projects/earthengine-legacy/thumbnails/333db51cef0a89d54e355f7f0ddfef0a-fe7c23aafe0982420da82c4bb989fc95:getPixels\n",
      "2002 https://earthengine.googleapis.com/v1alpha/projects/earthengine-legacy/thumbnails/9088e632ff98ae554f6be77ebd1ea270-831bba14edc5e106b90c5fd081f1ac3b:getPixels\n",
      "2003 https://earthengine.googleapis.com/v1alpha/projects/earthengine-legacy/thumbnails/0446771db7ddce5d465026e864454f1e-0b734932127c77b0ff0bccbce7845ce9:getPixels\n",
      "2004 https://earthengine.googleapis.com/v1alpha/projects/earthengine-legacy/thumbnails/241b47c2ca4dccd49128dedea453cc0b-1fe9e2fa72089214772a4ea2b3dcf4b3:getPixels\n",
      "2005 https://earthengine.googleapis.com/v1alpha/projects/earthengine-legacy/thumbnails/9f3345c3434dc904efd7acb54ab8c5cb-f953cdfeae4bc8654d74bc3adcb46d83:getPixels\n",
      "2006 https://earthengine.googleapis.com/v1alpha/projects/earthengine-legacy/thumbnails/607980ba63170da7bac6ef189eeef821-80f8c26c69954cacc48cadc6a65a7b47:getPixels\n",
      "2007 https://earthengine.googleapis.com/v1alpha/projects/earthengine-legacy/thumbnails/234e9bc72a6719996d38dc3ff3d91a40-ac767074326d78cc526da7095f421515:getPixels\n",
      "2008 https://earthengine.googleapis.com/v1alpha/projects/earthengine-legacy/thumbnails/d27f45becb51a4224dd0054354f8c607-770520727f9b162833c5bb0d6bbed94c:getPixels\n",
      "2009 https://earthengine.googleapis.com/v1alpha/projects/earthengine-legacy/thumbnails/d6f961c4a862a86e2fff2fa8d218568b-eb6a4e2a2695f3808843635880bdccd0:getPixels\n",
      "2010 https://earthengine.googleapis.com/v1alpha/projects/earthengine-legacy/thumbnails/6088dbf516ddb4b8ef473e916ae76f9d-40dbfefffade31862aef87effce339aa:getPixels\n",
      "2011 https://earthengine.googleapis.com/v1alpha/projects/earthengine-legacy/thumbnails/027adbc949cca2652b932085a831dc8b-4cf26d2902a087b98e853793c8b91618:getPixels\n",
      "2012 https://earthengine.googleapis.com/v1alpha/projects/earthengine-legacy/thumbnails/f44a1cd46452025d1964a6b00378109b-136b5131ac221f9932250196a15d9b3f:getPixels\n",
      "2013 https://earthengine.googleapis.com/v1alpha/projects/earthengine-legacy/thumbnails/2ba48fbad3f5960e644ad531b3035862-8684a67c47c99f8806c5a99335657a4d:getPixels\n"
     ]
    }
   ],
   "source": [
    "output_folder = r\"output\"\n",
    "if not os.path.isdir(output_folder):\n",
    "    os.mkdir(output_folder)\n",
    "\n",
    "for country in countries_interested:\n",
    "    print(country)\n",
    "    for year, data in dataset_ccnl_filtered.items():\n",
    "        print(year, end=' ')\n",
    "        \n",
    "        ca_geom = ee.FeatureCollection(\"USDOS/LSIB_SIMPLE/2017\").filter(ee.Filter.eq('country_na', country)).geometry()\n",
    "        data = data.clip(ca_geom)\n",
    "        \n",
    "        dl_para = {\n",
    "            'bands': ['b1'],\n",
    "            'region': ca_geom,\n",
    "            'scale': 2000,\n",
    "            'format': 'NPY'\n",
    "        }\n",
    "        print(data.getDownloadUrl(dl_para))\n",
    "        response = requests.get(data.getDownloadUrl(dl_para))\n",
    "        _output_ = output_folder + \"\\\\\" + country + \"_\" + str(year) + \".npy\"\n",
    "        open(_output_, \"wb\").write(response.content)\n",
    "        # break\n",
    "    # break"
   ]
  },
  {
   "cell_type": "code",
   "execution_count": null,
   "id": "66caa2f3-7164-41f2-b4f1-7b0c19e9ea5e",
   "metadata": {},
   "outputs": [],
   "source": []
  }
 ],
 "metadata": {
  "hide_input": false,
  "kernelspec": {
   "display_name": "Python 3 (ipykernel)",
   "language": "python",
   "name": "python3"
  },
  "language_info": {
   "codemirror_mode": {
    "name": "ipython",
    "version": 3
   },
   "file_extension": ".py",
   "mimetype": "text/x-python",
   "name": "python",
   "nbconvert_exporter": "python",
   "pygments_lexer": "ipython3",
   "version": "3.11.3"
  },
  "toc": {
   "base_numbering": 1,
   "nav_menu": {},
   "number_sections": true,
   "sideBar": true,
   "skip_h1_title": false,
   "title_cell": "Table of Contents",
   "title_sidebar": "Contents",
   "toc_cell": false,
   "toc_position": {},
   "toc_section_display": true,
   "toc_window_display": false
  }
 },
 "nbformat": 4,
 "nbformat_minor": 5
}
