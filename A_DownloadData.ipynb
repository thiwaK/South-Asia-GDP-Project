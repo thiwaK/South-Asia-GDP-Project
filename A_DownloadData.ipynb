{
 "cells": [
  {
   "cell_type": "markdown",
   "id": "c2fc8b8f",
   "metadata": {},
   "source": [
    "# South Asia GDP Prediction\n",
    "\n",
    "This jupyter notebook is developed to predict Gross Domestic Product (GDP) of several countries in the South Asian region by utilizing the nighttime light satellite data. GDP is an important economic indicator that is closely related to the economic development of a country. Therefore, accurately predicting GDP can provide valuable insights into the economic growth of a region.\n",
    "\n",
    "Nighttime light data provides a unique perspective into human activities and infrastructure, which can be used to estimate electricity consumption, economic activity, and urbanization trends. In this project, I will explore the relationship between nighttime light data and GDP to predict GDP for several countries in South Asia."
   ]
  },
  {
   "cell_type": "code",
   "execution_count": 1,
   "id": "4d553450",
   "metadata": {},
   "outputs": [],
   "source": [
    "import ee\n",
    "import json\n",
    "import requests\n",
    "import os\n",
    "import shapefile\n",
    "import geemap\n",
    "import geemap as gee\n",
    "import geopandas as gpd\n",
    "import pandas as ps\n",
    "import numpy as np\n",
    "from pprint import pprint \n",
    "\n",
    "# Initialize the Earth Engine API\n",
    "# ee.Authenticate()\n",
    "ee.Initialize()"
   ]
  },
  {
   "cell_type": "markdown",
   "id": "bb5328e8",
   "metadata": {},
   "source": [
    "The `SAsia_Merged.shp` is a vector file that was created by combining the countries of Sri Lanka, India, Pakistan, Nepal, Bhutan, and Bangladesh, which are the countries interested in for predicting GDP. To filter data from Google Earth Engine (GEE), it needs to define an area of interest (AOI) that covers the regions of these countries. Instead of using the geometry of `SAsia_Merged.shp` directly, which contains a large number of nodes making it difficult for GEE to filter data efficiently, I can create a square shape that covers the AOI.\n",
    "\n",
    "To create a square shape that covers the AOI, I first calculated the maximum and minimum coordinates of x (latitudes) and y (longitudes) for the `SAsia_Merged.shp`. I then used these values to create a bounding box that defines square shape. The bounding box is a rectangular box with sides aligned with the x and y axes, created by specifying the minimum and maximum values of both the x and y dimensions. The use of a bounding box allows me to efficiently filter the data from GEE, allowing for faster processing times"
   ]
  },
  {
   "cell_type": "code",
   "execution_count": 13,
   "id": "f467d7a8-0e97-4b85-8893-50e22c2f004f",
   "metadata": {
    "tags": []
   },
   "outputs": [],
   "source": [
    "base_dir = os.getcwd()\n",
    "vector_file_path = os.path.join(\"AdminBound\", \"SAsia_Merged.shp\")\n",
    "countries_interested = [\"Pakistan\", \"Nepal\", \"Sri Lanka\", \"India\", \"Bhutan\", \"Bangladesh\"]\n",
    "\n",
    "vector_data = gpd.read_file(vector_file_path)\n",
    "vector_bound_coordinates = vector_data.bounds\n",
    "minX, minY, maxX, maxY = vector_bound_coordinates.values[0][0], vector_bound_coordinates.values[0][1], vector_bound_coordinates.values[0][2], vector_bound_coordinates.values[0][3]\n",
    "\n",
    "for item in vector_bound_coordinates.values:\n",
    "    if minX > item[0]: minX = item[0]\n",
    "    if minY > item[1]: minY = item[1]\n",
    "    if maxX < item[2]: maxX = item[2]\n",
    "    if maxY < item[3]: maxY = item[3]\n",
    "\n",
    "area_of_interest = ee.Geometry.Rectangle([[minX-1, minY-1],[maxX+1, maxY+1]])\n"
   ]
  },
  {
   "cell_type": "markdown",
   "id": "63901166",
   "metadata": {},
   "source": [
    "To visually display and validate if the created rectangular area covers my AOI, I can create an interactive map using geemap. The map will show the blue area covered by the rectangle and the red polygons that represent the country areas obtained from the GEE feature collection USDOS/LSIB_SIMPLE/2017.\n",
    "\n",
    "The purpose of this map is to provide a visual representation of the selected rectangular area and to ensure that it encompasses the countries of Sri Lanka, India, Pakistan, Nepal, Bhutan, and Bangladesh. The red polygons represent the actual country boundaries, providing a frame of reference to ensure that our rectangular selection aligns with the desired area of interest.\n",
    "\n",
    "By using this map, I can visually confirm that the rectangular area I have selected includes the targeted countries and exclude any unwanted areas. This process helps ensure that the data we collect from GEE is accurate and relevant for my analysis."
   ]
  },
  {
   "cell_type": "code",
   "execution_count": 3,
   "id": "2658eb09-41ec-43c5-9a70-c6b4059910e4",
   "metadata": {
    "tags": []
   },
   "outputs": [
    {
     "data": {
      "application/vnd.jupyter.widget-view+json": {
       "model_id": "efffc8e41011461cb85275af38c32b49",
       "version_major": 2,
       "version_minor": 0
      },
      "text/plain": [
       "Map(center=[20, 0], controls=(WidgetControl(options=['position', 'transparent_bg'], widget=HBox(children=(Togg…"
      ]
     },
     "execution_count": 3,
     "metadata": {},
     "output_type": "execute_result"
    }
   ],
   "source": [
    "Map = geemap.Map(zoom=1, lite_mode=False)\n",
    "\n",
    "area_of_interest = ee.Geometry.Rectangle([[60, 37],[98, 5]])\n",
    "\n",
    "Map.addLayer(area_of_interest, {\"color\":\"blue\"}, \"Rect 1\")\n",
    "Map.center_object(area_of_interest)\n",
    "\n",
    "for country in countries_interested:\n",
    "\n",
    "    ca_geom = ee.FeatureCollection(\"USDOS/LSIB_SIMPLE/2017\").filter(ee.Filter.eq('country_na', country)).geometry()\n",
    "    Map.addLayer(ca_geom, {\"color\":\"red\"}, country)\n",
    "\n",
    "Map"
   ]
  },
  {
   "cell_type": "markdown",
   "id": "2728000e",
   "metadata": {},
   "source": [
    "GEE provides access to two night light emission image collections, which were collected by sensors mounted on two different satellites. The first collection is the `VIIRS` (Visible Infrared Imaging Radiometer Suite) satellite night light emission image collection, with data available from January 1st, 1992 to January 1st, 2014. The second collection is the `CCNL` (Climate Change Initiative Combined Nighttime Lights) satellite night light emission image collection, with data available from January 1st, 2014 to June 1st, 2022. Each collection has a different range of minimum and maximum values. This means that the night light data from the two collections cannot be directly compared without first normalizing them into a consistent range."
   ]
  },
  {
   "cell_type": "code",
   "execution_count": 3,
   "id": "188d0bc2",
   "metadata": {},
   "outputs": [],
   "source": [
    "VIIRS = ee.ImageCollection('NOAA/VIIRS/DNB/MONTHLY_V1/VCMCFG') \n",
    "CCNL = ee.ImageCollection('BNU/FGS/CCNL/v1')"
   ]
  },
  {
   "cell_type": "markdown",
   "id": "5a5ec251",
   "metadata": {},
   "source": [
    "To refine our dataset further, I have filtered the GEE night light emission image collections for each year and extracted the cloud-free coverage from VIIRS and band 1 from CCNL."
   ]
  },
  {
   "cell_type": "code",
   "execution_count": 8,
   "id": "a26369ab-eb67-4074-8a35-1ec7c57363e2",
   "metadata": {
    "tags": []
   },
   "outputs": [],
   "source": [
    "def filterCollection(collection, band=None, geometry=None, timeYear=[1992,2014], timeMonths=[(1,6), (6,12)]):\n",
    "    FILTERED_DATASET = {}\n",
    "    print(\"Filtering...\")\n",
    "    for YEAR in range(timeYear[0],timeYear[1]):\n",
    "        print(YEAR ,end='')\n",
    "        \n",
    "        for MONTH in timeMonths:\n",
    "            print(\".\", end=\"\")\n",
    "            \n",
    "            if band:\n",
    "                collection = collection.select(band)\n",
    "            if geometry:\n",
    "                collection = collection.filterBounds(geometry)\n",
    "            \n",
    "            collection.filter(ee.Filter.calendarRange(YEAR, YEAR,'year'))\n",
    "            collection.filter(ee.Filter.calendarRange(MONTH[0], MONTH[1],'month'))\n",
    "            \n",
    "            if YEAR in FILTERED_DATASET:\n",
    "                FILTERED_DATASET[YEAR].append(collection)\n",
    "            else:\n",
    "                FILTERED_DATASET[YEAR] = [collection,]\n",
    "    return FILTERED_DATASET"
   ]
  },
  {
   "cell_type": "code",
   "execution_count": 6,
   "id": "6c47ed4d-4852-4584-8855-a9a8b993ba6b",
   "metadata": {
    "tags": []
   },
   "outputs": [
    {
     "ename": "NameError",
     "evalue": "name 'dataset_ccnl_filtered' is not defined",
     "output_type": "error",
     "traceback": [
      "\u001b[1;31m---------------------------------------------------------------------------\u001b[0m",
      "\u001b[1;31mNameError\u001b[0m                                 Traceback (most recent call last)",
      "Cell \u001b[1;32mIn[6], line 8\u001b[0m\n\u001b[0;32m      5\u001b[0m Map\u001b[38;5;241m.\u001b[39madd_tile_layer(url, name\u001b[38;5;241m=\u001b[39m\u001b[38;5;124m'\u001b[39m\u001b[38;5;124mAlidadeSmoothDark\u001b[39m\u001b[38;5;124m'\u001b[39m, attribution\u001b[38;5;241m=\u001b[39m\u001b[38;5;124m'\u001b[39m\u001b[38;5;124m&copy; <a href=\u001b[39m\u001b[38;5;124m\"\u001b[39m\u001b[38;5;124mhttps://stadiamaps.com/\u001b[39m\u001b[38;5;124m\"\u001b[39m\u001b[38;5;124m>Stadia Maps</a>, &copy; <a href=\u001b[39m\u001b[38;5;124m\"\u001b[39m\u001b[38;5;124mhttps://openmaptiles.org/\u001b[39m\u001b[38;5;124m\"\u001b[39m\u001b[38;5;124m>OpenMapTiles</a> &copy; <a href=\u001b[39m\u001b[38;5;124m\"\u001b[39m\u001b[38;5;124mhttp://openstreetmap.org\u001b[39m\u001b[38;5;124m\"\u001b[39m\u001b[38;5;124m>OpenStreetMap</a> contributors\u001b[39m\u001b[38;5;124m'\u001b[39m)\n\u001b[0;32m      6\u001b[0m attributes \u001b[38;5;241m=\u001b[39m {\u001b[38;5;124m'\u001b[39m\u001b[38;5;124mpalette\u001b[39m\u001b[38;5;124m'\u001b[39m: [\u001b[38;5;124m'\u001b[39m\u001b[38;5;124m000004\u001b[39m\u001b[38;5;124m'\u001b[39m, \u001b[38;5;124m'\u001b[39m\u001b[38;5;124m160b39\u001b[39m\u001b[38;5;124m'\u001b[39m, \u001b[38;5;124m'\u001b[39m\u001b[38;5;124m400a67\u001b[39m\u001b[38;5;124m'\u001b[39m, \u001b[38;5;124m'\u001b[39m\u001b[38;5;124m69166e\u001b[39m\u001b[38;5;124m'\u001b[39m, \u001b[38;5;124m'\u001b[39m\u001b[38;5;124m902568\u001b[39m\u001b[38;5;124m'\u001b[39m, \u001b[38;5;124m'\u001b[39m\u001b[38;5;124md94d3d\u001b[39m\u001b[38;5;124m'\u001b[39m, \u001b[38;5;124m'\u001b[39m\u001b[38;5;124mf1711f\u001b[39m\u001b[38;5;124m'\u001b[39m, \u001b[38;5;124m'\u001b[39m\u001b[38;5;124mfb9d07\u001b[39m\u001b[38;5;124m'\u001b[39m, \u001b[38;5;124m'\u001b[39m\u001b[38;5;124mf8cd37\u001b[39m\u001b[38;5;124m'\u001b[39m, \u001b[38;5;124m'\u001b[39m\u001b[38;5;124mfcffa4\u001b[39m\u001b[38;5;124m'\u001b[39m]}\n\u001b[1;32m----> 8\u001b[0m \u001b[38;5;28;01mfor\u001b[39;00m year, data \u001b[38;5;129;01min\u001b[39;00m dataset_ccnl_filtered\u001b[38;5;241m.\u001b[39mitems():\n\u001b[0;32m      9\u001b[0m     Map\u001b[38;5;241m.\u001b[39maddLayer(data, attributes, \u001b[38;5;28mstr\u001b[39m(year) \u001b[38;5;241m+\u001b[39m \u001b[38;5;124m\"\u001b[39m\u001b[38;5;124m CCNL\u001b[39m\u001b[38;5;124m\"\u001b[39m)\n\u001b[0;32m     10\u001b[0m     \u001b[38;5;28;01mbreak\u001b[39;00m\n",
      "\u001b[1;31mNameError\u001b[0m: name 'dataset_ccnl_filtered' is not defined"
     ]
    }
   ],
   "source": [
    "# For testing\n",
    "url = 'https://tiles.stadiamaps.com/tiles/alidade_smooth_dark/{z}/{x}/{y}{r}.png'\n",
    "\n",
    "Map = geemap.Map(zoom=8, lite_mode=False)\n",
    "Map.add_tile_layer(url, name='AlidadeSmoothDark', attribution='&copy; <a href=\"https://stadiamaps.com/\">Stadia Maps</a>, &copy; <a href=\"https://openmaptiles.org/\">OpenMapTiles</a> &copy; <a href=\"http://openstreetmap.org\">OpenStreetMap</a> contributors')\n",
    "attributes = {'palette': ['000004', '160b39', '400a67', '69166e', '902568', 'd94d3d', 'f1711f', 'fb9d07', 'f8cd37', 'fcffa4']}\n",
    "\n",
    "for year, data in dataset_ccnl_filtered.items():\n",
    "    Map.addLayer(data, attributes, str(year) + \" CCNL\")\n",
    "    break\n",
    "\n",
    "for year, data in dataset_viirs_filtered.items():\n",
    "    Map.addLayer(data, attributes, str(year) + \" VIIRS\")\n",
    "    break\n",
    "\n",
    "Map.center_object(area_of_interest)\n",
    "Map"
   ]
  },
  {
   "cell_type": "markdown",
   "id": "f7a3ee18",
   "metadata": {},
   "source": [
    "One way to export filtered data sets to Google Drive is by using the following code to export them as GeoTiff files:\n",
    "```python\n",
    "\n",
    "for year, data in dataset.items():\n",
    "    geemap.ee_export_image_to_drive(data, fileNamePrefix=\"nle_\" + str(year), region=area_of_interest, folder='export_nle')\n",
    "```\n",
    "\n",
    "However, exporting large GeoTiff files can be time-consuming. An alternative approach to this is to export the data sets as numpy arrays, which is a faster process."
   ]
  },
  {
   "cell_type": "code",
   "execution_count": 4,
   "id": "56f8e33c-47c4-4784-ad6b-bb4b423886db",
   "metadata": {
    "tags": []
   },
   "outputs": [],
   "source": [
    "def export_npy(collectionDict, featureCol=None, outfile=\"file\", outdir=\"output\", band='b1', timeMonths=[(1,6), (6,12)]):\n",
    "\n",
    "    if not os.path.isdir(outdir):\n",
    "        os.mkdir(outdir)\n",
    "        \n",
    "    if not featureCol:\n",
    "        print(\"feature collection is required\")\n",
    "        return\n",
    "    \n",
    "    geometry = featureCol.geometry() \n",
    "\n",
    "    for key, val in collectionDict.items():\n",
    "        \n",
    "\n",
    "        for month in range(len(val)):\n",
    "            imgCol = val[month]\n",
    "            img = imgCol.mean()\n",
    "\n",
    "            dl_para = {\n",
    "                'bands': ['b1'],\n",
    "                'scale': 2000,\n",
    "                'format': 'NPY',\n",
    "                'region': geometry,\n",
    "            }\n",
    "                       \n",
    "            \n",
    "            months_str = str(timeMonths[month][0]) + \"-\" + str(timeMonths[month][1])\n",
    "            print(f\"{key} [{months_str}]\", end=\" \")\n",
    "            print(img.getDownloadUrl(dl_para))\n",
    "            \n",
    "            response = requests.get(img.getDownloadUrl(dl_para))\n",
    "            _output_ = os.path.join(output_folder, outfile + \"_\" + str(year) + \"_\" + months_str + \".npy\")\n",
    "            open(_output_, \"wb\").write(response.content)\n"
   ]
  },
  {
   "cell_type": "code",
   "execution_count": null,
   "id": "4cffdb51-fa78-4b9c-8e6f-2dbfea207123",
   "metadata": {
    "tags": []
   },
   "outputs": [],
   "source": [
    "def export_stat(collectionDict, featureCol=None, outfile=\"file\", outdir=\"output\", timeMonths=[(1,6), (6,12)]):\n",
    "    \n",
    "\n",
    "\n",
    "    print(\"\\nExporting Stat...\")\n",
    "    result = {\"counry\":[], \"year\":[], \"month\":[], \"min\":[], \"max\":[], \"mean\":[]}\n",
    "    if not os.path.isdir(outdir):\n",
    "        os.mkdir(outdir)\n",
    "        \n",
    "    if not featureCol:\n",
    "        print(\"feature collection is required\")\n",
    "        return\n",
    "    \n",
    "    geometry = featureCol.geometry()\n",
    "    ca_name = ca_geom.first().get(\"country_na\").getInfo()\n",
    "\n",
    "    for key, val in collectionDict.items():\n",
    "        print(key, end=\"\")\n",
    "        for month in range(len(val)):\n",
    "            imgCol = val[month]\n",
    "            img = imgCol.mean()\n",
    "            \n",
    "            month_ = f\"{timeMonths[month][0]}-{timeMonths[month][1]}\"\n",
    "            \n",
    "            # reduced = img.reduceRegion(reducer=ee.Reducer.min(), geometry=featureCol.geometry(), scale=1000)\n",
    "            # min_ = ee.Feature(None, reduced).get(\"b1\").getInfo()\n",
    "        \n",
    "            reducers = ee.Reducer.min().combine(\n",
    "                reducer2=ee.Reducer.max(),\n",
    "                sharedInputs=True\n",
    "            ).combine(\n",
    "                reducer2=ee.Reducer.mean(),\n",
    "                sharedInputs=True\n",
    "            )\n",
    "\n",
    "            # Use the combined reducer to get the mean and SD of the image.\n",
    "            stats = img.reduceRegion(\n",
    "                reducer=reducers,\n",
    "                bestEffort=True,\n",
    "                geometry=featureCol.geometry(),\n",
    "                scale=1000\n",
    "            )\n",
    "            \n",
    "            result[\"counry\"].append(ca_name)\n",
    "            result[\"year\"].append(key)\n",
    "            result[\"month\"].append(month_)\n",
    "            result[\"min\"].append(stats.get(\"b1_min\").getInfo())\n",
    "            result[\"max\"].append(stats.get(\"b1_max\").getInfo())\n",
    "            result[\"mean\"].append(stats.get(\"b1_mean\").getInfo())\n",
    "            \n",
    "            print(\".\", end=\"\")\n",
    "            \n",
    "    return result"
   ]
  },
  {
   "cell_type": "code",
   "execution_count": 6,
   "id": "cd4e4120-d5d3-4acd-8c03-ca7c7ace4bf8",
   "metadata": {},
   "outputs": [],
   "source": [
    "def export(caName, imgCol, band):\n",
    "    try:\n",
    "        ca_geom = ee.FeatureCollection(\"USDOS/LSIB_SIMPLE/2017\").filter(ee.Filter.eq('country_na', caName)) \n",
    "        data = filterCollection(imgCol, band, ca_geom)\n",
    "        stat = export_stat(data, ca_geom, caName)\n",
    "        df = ps.DataFrame(stat)\n",
    "        file = os.path.join(base_dir, \"output\", ca+\".csv\")\n",
    "        df.to_csv(ca, index=True)\n",
    "    except Exception as e:\n",
    "        print(e)"
   ]
  },
  {
   "cell_type": "code",
   "execution_count": 12,
   "id": "a38fa8ad-19b7-4443-88fb-c842f83274f6",
   "metadata": {
    "tags": []
   },
   "outputs": [
    {
     "name": "stdout",
     "output_type": "stream",
     "text": [
      "Bangladesh\n",
      "Filtering...\n",
      "1992..1993..1994..1995..1996..1997..1998..1999..2000..2001..2002..2003..2004..2005..2006..2007..2008..2009..2010..2011..2012..2013..Exporting Stat...\n",
      "1992..1993..1994..1995..1996..1997..1998..1999..2000..2001..2002..2003..2004..2005..2006..2007..2008..2009..2010..2011..2012..2013.."
     ]
    }
   ],
   "source": [
    "for ca in countries_interested:\n",
    "    print(ca)\n",
    "    ca_geom = ee.FeatureCollection(\"USDOS/LSIB_SIMPLE/2017\").filter(ee.Filter.eq('country_na', ca))            \n",
    "    \n",
    "    data = filterCollection(CCNL, 'b1', ca_geom)\n",
    "    # data = filterCollection(VIIRS, 'cf_cvg', ca_geom)\n",
    "    \n",
    "    stat = export_stat(data, ca_geom, ca)\n",
    "    \n",
    "    df = ps.DataFrame(stat)\n",
    "    file = os.path.join(base_dir, \"output\", ca+\".csv\")\n",
    "    df.to_csv(file, index=True)\n",
    "\n",
    "    # print(ne_stat)\n",
    "    # break"
   ]
  },
  {
   "cell_type": "code",
   "execution_count": null,
   "id": "66caa2f3-7164-41f2-b4f1-7b0c19e9ea5e",
   "metadata": {},
   "outputs": [
    {
     "name": "stdout",
     "output_type": "stream",
     "text": [
      "There are 8 CPUs on this machine \n"
     ]
    }
   ],
   "source": [
    "import sys, os\n",
    "import zipfile\n",
    "import requests\n",
    "from multiprocessing import Pool, cpu_count\n",
    "from functools import partial\n",
    "from io import BytesIO\n",
    "import concurrent.futures \n",
    "\n",
    "print(\"There are {} CPUs on this machine \".format(cpu_count()))\n",
    "pool = Pool(cpu_count())\n",
    "\n",
    "download_func = partial(export, imgCol=CCNL, band='b1')\n",
    "results = pool.map(download_func, countries_interested)\n",
    "pool.close()\n",
    "pool.join()\n"
   ]
  },
  {
   "cell_type": "code",
   "execution_count": null,
   "id": "573cf764-be53-4a29-a6c6-235c09478ab4",
   "metadata": {},
   "outputs": [],
   "source": []
  }
 ],
 "metadata": {
  "hide_input": false,
  "kernelspec": {
   "display_name": "Python 3 (ipykernel)",
   "language": "python",
   "name": "python3"
  },
  "language_info": {
   "codemirror_mode": {
    "name": "ipython",
    "version": 3
   },
   "file_extension": ".py",
   "mimetype": "text/x-python",
   "name": "python",
   "nbconvert_exporter": "python",
   "pygments_lexer": "ipython3",
   "version": "3.11.3"
  },
  "toc": {
   "base_numbering": 1,
   "nav_menu": {},
   "number_sections": true,
   "sideBar": true,
   "skip_h1_title": false,
   "title_cell": "Table of Contents",
   "title_sidebar": "Contents",
   "toc_cell": false,
   "toc_position": {},
   "toc_section_display": true,
   "toc_window_display": false
  }
 },
 "nbformat": 4,
 "nbformat_minor": 5
}
