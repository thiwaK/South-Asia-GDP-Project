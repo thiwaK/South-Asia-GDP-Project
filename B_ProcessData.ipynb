{
 "cells": [
  {
   "cell_type": "code",
   "execution_count": 1,
   "id": "67bdf2ea",
   "metadata": {
    "tags": []
   },
   "outputs": [],
   "source": [
    "import pandas as ps\n",
    "import rasterio\n",
    "import re\n",
    "import numpy as np\n",
    "\n",
    "from shapely.geometry import Polygon\n",
    "from shapely.geometry import shape\n",
    "\n",
    "import rasterio\n",
    "from rasterio.mask import mask\n",
    "from rasterio.transform import from_bounds\n",
    "from rasterio.plot import show, show_hist\n",
    "from rasterio.fill import fillnodata\n",
    "\n",
    "import os\n",
    "import shapely\n",
    "import geojson\n",
    "import fiona"
   ]
  },
  {
   "cell_type": "code",
   "execution_count": 2,
   "id": "4fd6df69",
   "metadata": {
    "tags": []
   },
   "outputs": [],
   "source": [
    "# base_dir = r\"D:\\Acadamics\\University\\Year_3\\Sem_2\\GIS3005 - Remote Sensing\\Assignment\\1\"\n",
    "base_dir = os.getcwd()\n",
    "countries_interested = [\"Pakistan\", \"Nepal\", \"Sri Lanka\", \"India\", \"Bhutan\", \"Bangladesh\"]\n",
    "gdp_dataset = os.path.join(base_dir, \"GDP\", \"API_NY.GDP.MKTP.CD_DS2_en_csv_v2_4770391.csv\")\n",
    "gdp_dataset_filtered = os.path.join(base_dir, \"output\", \"API_NY.GDP.MKTP.CD_DS2_en_csv_v2_4770391_filtered.csv\")\n",
    "nightlight = os.path.join(base_dir, \"output\", \"nightlight.csv\")\n",
    "output_folder = os.path.join(base_dir, r\"output\")\n",
    "year_from = 1992\n",
    "year_to = 2013"
   ]
  },
  {
   "cell_type": "code",
   "execution_count": 28,
   "id": "5ee6b83c",
   "metadata": {
    "tags": []
   },
   "outputs": [
    {
     "name": "stdout",
     "output_type": "stream",
     "text": [
      "           Name Code          1992          1993          1994          1995   \n",
      "20   Bangladesh  BGD  3.170887e+10  3.316652e+10  3.376866e+10  3.793975e+10  \\\n",
      "32       Bhutan  BTN  2.402158e+08  2.259981e+08  2.589856e+08  2.904648e+08   \n",
      "109       India  IND  2.882084e+11  2.792960e+11  3.272756e+11  3.602820e+11   \n",
      "138   Sri Lanka  LKA  9.703012e+09  1.033868e+10  1.171760e+10  1.302970e+10   \n",
      "178       Nepal  NPL  3.401212e+09  3.660042e+09  4.066776e+09  4.401104e+09   \n",
      "\n",
      "             1996          1997          1998          1999  ...   \n",
      "20   4.643848e+10  4.824431e+10  4.998456e+10  5.127057e+10  ...  \\\n",
      "32   3.034355e+08  3.522610e+08  3.634528e+08  3.992688e+08  ...   \n",
      "109  3.928971e+11  4.158678e+11  4.213515e+11  4.588204e+11  ...   \n",
      "138  1.389774e+10  1.509191e+10  1.579497e+10  1.565633e+10  ...   \n",
      "178  4.521580e+09  4.918692e+09  4.856255e+09  5.033642e+09  ...   \n",
      "\n",
      "             2004          2005          2006          2007          2008   \n",
      "20   6.510854e+10  6.944294e+10  7.181908e+10  7.961189e+10  9.163128e+10  \\\n",
      "32   6.825239e+08  7.969381e+08  8.749899e+08  1.168309e+09  1.227809e+09   \n",
      "109  7.091485e+11  8.203816e+11  9.402599e+11  1.216735e+12  1.198896e+12   \n",
      "138  2.066253e+10  2.440579e+10  2.827981e+10  3.235025e+10  4.071381e+10   \n",
      "178  7.273938e+09  8.130258e+09  9.043715e+09  1.032562e+10  1.254544e+10   \n",
      "\n",
      "             2009          2010          2011          2012          2013  \n",
      "20   1.024778e+11  1.152791e+11  1.286379e+11  1.333557e+11  1.499905e+11  \n",
      "32   1.234014e+09  1.547991e+09  1.777101e+09  1.781281e+09  1.756216e+09  \n",
      "109  1.341887e+12  1.675615e+12  1.823050e+12  1.827638e+12  1.856722e+12  \n",
      "138  4.206622e+10  5.863615e+10  6.775329e+10  7.044719e+10  7.700060e+10  \n",
      "178  1.285499e+10  1.600266e+10  2.157386e+10  2.170311e+10  2.216221e+10  \n",
      "\n",
      "[5 rows x 24 columns]\n"
     ]
    }
   ],
   "source": [
    "'''\n",
    "Filter WorldBank's current GDP dataset\n",
    "'''\n",
    "df = ps.read_csv(gdp_dataset, skiprows=0, na_values=None)\n",
    "df.drop(['Unnamed: 66'], axis=1, inplace=True)\n",
    "df.rename(columns={'Country Name':'Name', 'Country Code':'Code', 'Indicator Name':'IName', 'Indicator Code':'ICode'}, inplace=True)\n",
    "# print(df.head())\n",
    "\n",
    "df = df.drop([str(x) for x in range(1960, 1992)] + [str(x) for x in range(2014, 2022)] + ['IName', 'ICode'], axis=1)\n",
    "df = df[df.Name.isin(countries_interested)]\n",
    "# df = df.set_index('Name')\n",
    "# print(df.head())\n",
    "\n",
    "df.to_csv(gdp_dataset_filtered, index=True)\n"
   ]
  },
  {
   "cell_type": "code",
   "execution_count": 4,
   "id": "3e2fe888",
   "metadata": {
    "tags": []
   },
   "outputs": [],
   "source": [
    "class progress():\n",
    "    def __init__(self, current, maximum):\n",
    "        self.current = current\n",
    "        self.maximum = maximum\n",
    "        self.BAR_WIDTH = 40\n",
    "        \n",
    "        self.current -=1\n",
    "        self.next()\n",
    "        \n",
    "        \n",
    "    def next(self):\n",
    "        self.current += 1\n",
    "        x = int(self.BAR_WIDTH*self.current/self.maximum)\n",
    "        y = round(self.current/self.maximum*100, 1)\n",
    "        text_pb = \"{}[{}{}] {}/{} {}%\".format(\"Processing\", \"#\"*x, \".\"*(self.BAR_WIDTH-x), self.current, self.maximum, y)\n",
    "        print(text_pb, end='\\r', file=sys.stdout, flush=True)"
   ]
  },
  {
   "cell_type": "code",
   "execution_count": 5,
   "id": "ea8ce43c",
   "metadata": {
    "tags": []
   },
   "outputs": [],
   "source": [
    "def get_files(path, extention=\".tif\", regex=\"\"):\n",
    "    files = []\n",
    "    for file in os.listdir(path):\n",
    "        if file.endswith(extention):\n",
    "            if regex != \"\":\n",
    "                if not re.match(regex, file): continue\n",
    "            temp_path = os.path.join(path, file)\n",
    "            if os.path.exists(temp_path):\n",
    "                files.append(temp_path)\n",
    "    return files"
   ]
  },
  {
   "cell_type": "code",
   "execution_count": 6,
   "id": "9c9dbd4c",
   "metadata": {
    "tags": []
   },
   "outputs": [],
   "source": [
    "def load(npy_file, band=None):\n",
    "    if os.path.isfile(npy_file):\n",
    "        if band == None: return np.load(npy_file)\n",
    "        return np.load(npy_file)[band]\n",
    "    return None"
   ]
  },
  {
   "cell_type": "code",
   "execution_count": 7,
   "id": "b6fa5c69-af98-4886-b5a3-441771af1b91",
   "metadata": {},
   "outputs": [],
   "source": [
    "def clip_(raster, geometry):\n",
    "    out_image = mask(raster, geometry, crop=True)\n",
    "    return out_image"
   ]
  },
  {
   "cell_type": "code",
   "execution_count": 82,
   "id": "80dc57a2-cd1c-4415-8c0b-c514ed237454",
   "metadata": {},
   "outputs": [],
   "source": [
    "def night_light_development_index(data):\n",
    "\n",
    "    nldi = (data - np.mean(data)) / np.std(data)\n",
    "    return np.mean(nldi)\n",
    "\n",
    "def nighttime_lights_urbanization_index(data):\n",
    "\n",
    "    nlui = np.max(data) / np.sum(data)\n",
    "    return nlui\n",
    "\n",
    "def nighttime_lights_density_index(data):\n",
    "    \n",
    "    nldi = np.sum(data) / np.prod(data.shape)\n",
    "    return nldi"
   ]
  },
  {
   "cell_type": "code",
   "execution_count": 70,
   "id": "9f8ce2c0-c9c2-4b5f-8040-981571965c9e",
   "metadata": {},
   "outputs": [],
   "source": [
    "def calculate_night_light_development_index(array):\n",
    "    # Normalize array between 0 and 1\n",
    "    normalized_array = (array - np.min(array)) / (np.max(array) - np.min(array))\n",
    "    nldi = np.mean(normalized_array)\n",
    "    \n",
    "    return nldi\n",
    "\n",
    "def calculate_nighttime_lights_urbanization_index(array):\n",
    "    # Calculate NLUI\n",
    "    # nlui = np.sum(array > np.mean(array)) / array.size\n",
    "    nlui = np.sum(array) / np.max(array)\n",
    "    # nlui = np.sum(array) / array.size\n",
    "    \n",
    "    return nlui\n",
    "\n",
    "def calculate_nighttime_lights_density_index(array):\n",
    "    # Calculate NLDI\n",
    "    # nldi = np.sum(array) / array.size\n",
    "    nldi = np.sum(array) / np.sum(array > 0)\n",
    "    # nldi = np.sum(array) / (np.max(array) * array.size)\n",
    "    \n",
    "    return nldi\n"
   ]
  },
  {
   "cell_type": "code",
   "execution_count": 30,
   "id": "bcf3c834-e14c-44a0-8499-18255820253c",
   "metadata": {},
   "outputs": [],
   "source": [
    "def NLUIndex(npy):\n",
    "    data = npy\n",
    "    # Calculate the mean brightness of artificial lights in urban areas.\n",
    "    mean_brightness_urban = np.mean(data[data > 0])\n",
    "    # Calculate the mean brightness of artificial lights in rural areas.\n",
    "    mean_brightness_rural = np.mean(data[data <= 0])\n",
    "    # Calculate the NLUL.\n",
    "    nlui = mean_brightness_urban / mean_brightness_rural\n",
    "    return nlui\n",
    "def NLDIndex(npy):\n",
    "    data = npy\n",
    "    # Calculate the mean brightness of artificial lights at night.\n",
    "    mean_brightness = np.mean(data)\n",
    "\n",
    "    # Calculate the area of the land.\n",
    "    area = data.shape[0] * data.shape[1]\n",
    "\n",
    "    # Calculate the NLDI.\n",
    "    nldi = mean_brightness / area\n",
    "    return nldi"
   ]
  },
  {
   "cell_type": "code",
   "execution_count": 10,
   "id": "87200ea2-83de-493e-b006-382cb26ff472",
   "metadata": {
    "tags": []
   },
   "outputs": [],
   "source": [
    "def clip(shapefile_path, raster_path, clipped_folder=\"out\", attribute='NAME_0'):\n",
    "    # Open the shapefile\n",
    "    with fiona.open(shapefile_path, \"r\") as shapefile:\n",
    "        # Iterate over the features\n",
    "        for feature in shapefile:\n",
    "            # Get the geometry\n",
    "            geometry = shape(feature[\"geometry\"])\n",
    "            name_suffix = feature['properties'][attribute]\n",
    "            year = str(re.findall(r\"F\\d\\d(\\d+)\", raster_path)[0])\n",
    "            # print(shapefile.schema['properties'].keys())\n",
    "\n",
    "            # Open the raster file\n",
    "            with rasterio.open(raster_path) as raster:\n",
    "                # Clip the raster using the current geometry\n",
    "                clipped, transform = mask(dataset=raster, shapes=[geometry], crop=True)\n",
    "\n",
    "                # Update the metadata for the clipped raster\n",
    "                clipped_meta = raster.meta.copy()\n",
    "                clipped_meta.update({\n",
    "                    \"width\": clipped.shape[2],\n",
    "                    \"height\": clipped.shape[1],\n",
    "                    \"transform\": transform\n",
    "                })\n",
    "\n",
    "                # Generate a unique filename for the clipped raster\n",
    "                filename = f\"{name_suffix}_{year}.tif\"\n",
    "                clipped_path = f\"{clipped_folder}/{filename}\"\n",
    "\n",
    "                # Write the clipped raster to a new file\n",
    "                with rasterio.open(clipped_path, \"w\", **clipped_meta) as dst:\n",
    "                    dst.write(clipped)"
   ]
  },
  {
   "cell_type": "code",
   "execution_count": 11,
   "id": "49611fdc-b928-4d37-a353-65207bb1524f",
   "metadata": {},
   "outputs": [],
   "source": [
    "def process_non_gee(tif_collection):\n",
    "    print(\"Processing...\", end=\"\")\n",
    "    shp = os.path.join(base_dir, \"sAsia\", \"SAsia_Merged.shp\")\n",
    "    for tif in tif_collection:\n",
    "        year = str(re.findall(r\"F\\d\\d(\\d+)\", tif)[0])\n",
    "        print(year + \", \", end=\"\")\n",
    "        clip(shp, tif, \"output\")"
   ]
  },
  {
   "cell_type": "code",
   "execution_count": 77,
   "id": "7e6653c5",
   "metadata": {
    "tags": []
   },
   "outputs": [],
   "source": [
    "'''\n",
    "Process Night Light Entensity npy\n",
    "'''\n",
    "gee = True # is this data from gee\n",
    "\n",
    "if gee:\n",
    "    npys = get_files(output_folder, '.npy')\n",
    "    npys = [{'npy':load(x)['b1'], 'country':os.path.splitext(os.path.split(x)[-1])[0].split(\"_\")[0], 'year':int(os.path.splitext(os.path.split(x)[-1])[0].split(\"_\")[-1])} for x in npys]\n",
    "else:\n",
    "    tif = get_files(output_folder, '.tif')\n",
    "    process_non_gee(tif)\n",
    "        \n"
   ]
  },
  {
   "cell_type": "code",
   "execution_count": 78,
   "id": "644fd950",
   "metadata": {
    "tags": []
   },
   "outputs": [],
   "source": [
    "df = ps.DataFrame(npys)"
   ]
  },
  {
   "cell_type": "code",
   "execution_count": 79,
   "id": "3939b99e-43c6-4afe-9b5b-587724dd1323",
   "metadata": {},
   "outputs": [],
   "source": [
    "data = {\"country\":[], \"year\":[], 'nldi':[], 'nlui':[]}\n",
    "for country in countries_interested:\n",
    "    nldf = df[df.country == country]\n",
    "    for index, item in nldf.iterrows():\n",
    "        b1 = item.npy\n",
    "        data[\"country\"].append(country)\n",
    "        data[\"year\"].append(item.year)\n",
    "        # data[\"nldi\"].append(calculate_night_light_development_index(b1))\n",
    "        data[\"nldi\"].append(nighttime_lights_density_index(b1))\n",
    "        \n",
    "        data[\"nlui\"].append(calculate_nighttime_lights_urbanization_index(b1))"
   ]
  },
  {
   "cell_type": "code",
   "execution_count": 80,
   "id": "a69e5474",
   "metadata": {
    "tags": []
   },
   "outputs": [],
   "source": [
    "df = ps.DataFrame(data)\n",
    "# df.set_index('country')"
   ]
  },
  {
   "cell_type": "code",
   "execution_count": 81,
   "id": "277275ee",
   "metadata": {
    "tags": []
   },
   "outputs": [],
   "source": [
    "df.to_csv(nightlight, index=True)"
   ]
  },
  {
   "cell_type": "code",
   "execution_count": null,
   "id": "a9e835e9",
   "metadata": {},
   "outputs": [],
   "source": []
  }
 ],
 "metadata": {
  "hide_input": false,
  "kernelspec": {
   "display_name": "Python 3 (ipykernel)",
   "language": "python",
   "name": "python3"
  },
  "language_info": {
   "codemirror_mode": {
    "name": "ipython",
    "version": 3
   },
   "file_extension": ".py",
   "mimetype": "text/x-python",
   "name": "python",
   "nbconvert_exporter": "python",
   "pygments_lexer": "ipython3",
   "version": "3.11.3"
  },
  "toc": {
   "base_numbering": 1,
   "nav_menu": {},
   "number_sections": true,
   "sideBar": true,
   "skip_h1_title": false,
   "title_cell": "Table of Contents",
   "title_sidebar": "Contents",
   "toc_cell": false,
   "toc_position": {},
   "toc_section_display": true,
   "toc_window_display": false
  }
 },
 "nbformat": 4,
 "nbformat_minor": 5
}
